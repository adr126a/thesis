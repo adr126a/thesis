{
 "cells": [
  {
   "cell_type": "markdown",
   "metadata": {},
   "source": [
    "# Case Study: Twitter - Circular Economy\n",
    "\n",
    "## Goals: Extracting topics, extracting relevant hashtags and keywords.\n",
    "\n",
    "### Key Steps:\n",
    "1. Splitting the dataset into training and test sets (75% - 25%)\n",
    "2. Dataset cleaning\n",
    "3. Corpus cleaning\n",
    "4. Creating Term-Document Matrices (TDM) and Document-Term Matrices (DTM)\n",
    "5. Identifying the most frequent terms\n",
    "6. Word associations\n",
    "7. Bigrams and trigrams\n",
    "8. General sentiment analysis\n",
    "9. Topic identification\n",
    "10. Sentiment analysis relative to topics\n",
    "11. Tweet classification based on topics\n",
    "12. Extraction of the most frequent hashtags\n"
   ]
  },
  {
   "cell_type": "markdown",
   "metadata": {},
   "source": [
    "### Libraries"
   ]
  },
  {
   "cell_type": "code",
   "execution_count": 1,
   "metadata": {
    "vscode": {
     "languageId": "r"
    }
   },
   "outputs": [],
   "source": [
    "suppressWarnings(suppressMessages(\n",
    "  invisible({\n",
    "library(tm)\n",
    "library(topicmodels)\n",
    "library(qdapTools)\n",
    "library(BTM)\n",
    "# library(qdap)\n",
    "library(ggraph)\n",
    "library(textplot)\n",
    "library(concaveman)\n",
    "library(data.table)\n",
    "library(stopwords)\n",
    "library(udpipe)\n",
    "library(syuzhet)\n",
    "library(ggthemes)\n",
    "library(ggplot2)\n",
    "library(RColorBrewer)\n",
    "library(wordcloud)\n",
    "library(dplyr)\n",
    "library(tidytext)\n",
    "library(quanteda)\n",
    "library(stringr)\n",
    "library(purrr)\n",
    "  })\n",
    "))"
   ]
  },
  {
   "cell_type": "markdown",
   "metadata": {},
   "source": [
    "### 1 - Splitting the dataset into training and test sets (75% - 25%)"
   ]
  },
  {
   "cell_type": "code",
   "execution_count": 2,
   "metadata": {
    "vscode": {
     "languageId": "r"
    }
   },
   "outputs": [
    {
     "data": {
      "text/html": [
       "<style>\n",
       ".list-inline {list-style: none; margin:0; padding: 0}\n",
       ".list-inline>li {display: inline-block}\n",
       ".list-inline>li:not(:last-child)::after {content: \"\\00b7\"; padding: 0 .5ex}\n",
       "</style>\n",
       "<ol class=list-inline><li>'text'</li><li>'created'</li><li>'screenName'</li></ol>\n"
      ],
      "text/latex": [
       "\\begin{enumerate*}\n",
       "\\item 'text'\n",
       "\\item 'created'\n",
       "\\item 'screenName'\n",
       "\\end{enumerate*}\n"
      ],
      "text/markdown": [
       "1. 'text'\n",
       "2. 'created'\n",
       "3. 'screenName'\n",
       "\n",
       "\n"
      ],
      "text/plain": [
       "[1] \"text\"       \"created\"    \"screenName\""
      ]
     },
     "metadata": {},
     "output_type": "display_data"
    }
   ],
   "source": [
    "# Importing the .csv file\n",
    "twitter <- read.csv(\"./CE.csv\", stringsAsFactors = FALSE)\n",
    "names(twitter)\n",
    "twitter <- unique(twitter) # Removing duplicate tweets\n",
    "\n",
    "# 75% - 25% (training - testing)\n",
    "training <- floor(0.75 * nrow(twitter))\n",
    "\n",
    "# Setting the seed for reproducibility\n",
    "set.seed(100)\n",
    "\n",
    "# Creating training and test datasets\n",
    "index <- sample(seq_len(nrow(twitter)), size = training)\n",
    "test_twitter <- twitter[-index, ]\n",
    "training_twitter <- twitter[index, ]\n",
    "options(max.print=100) # Setting max.print option"
   ]
  },
  {
   "cell_type": "markdown",
   "metadata": {},
   "source": [
    "### 2 - Dataset cleaning"
   ]
  },
  {
   "cell_type": "code",
   "execution_count": 3,
   "metadata": {
    "vscode": {
     "languageId": "r"
    }
   },
   "outputs": [],
   "source": [
    "# Cleaning the dataset (removing encoding errors)\n",
    "test_twitter$text <- gsub(\"<[^>]+>\", \"\", test_twitter$text)\n",
    "test_twitter$text <- gsub(\"<[^>]+><[^>]+>\", \"\", test_twitter$text)\n",
    "test_twitter$text <- gsub(\"&amp;\", \"\", test_twitter$text)\n",
    "test_twitter$text <- gsub(\"&amp\", \"\", test_twitter$text)\n",
    "test_twitter$text <- gsub(\"&\", \"\", test_twitter$text)\n",
    "test_twitter$text <- gsub(\"amp\", \"\", test_twitter$text)\n",
    "test_twitter$text <- gsub(\"amp;\", \"\", test_twitter$text)\n",
    "test_twitter$text <- gsub(\"@[A-Za-z0-9]+\", \"\", test_twitter$text)\n",
    "test_twitter$text <- gsub(\"wh\", \"\", test_twitter$text)\n",
    "test_twitter$text <- gsub(\"@SchneiderElec\", \"\", test_twitter$text)\n",
    "test_twitter$text <- gsub(\"@\", \"\", test_twitter$text)\n",
    "test_twitter$text <- gsub(\"SchneiderElec\", \"\", test_twitter$text)\n",
    "test_twitter$text <- gsub(\"tweet\", \"\", test_twitter$text)\n",
    "test_twitter$text <- gsub(\"tweeted\", \"\", test_twitter$text)\n",
    "test_twitter$text <- gsub(\"tweets\", \"\", test_twitter$text)\n",
    "test_twitter$text <- gsub(\"1st\", \"\", test_twitter$text)\n",
    "test_twitter$text <- gsub(\"anandmahindra\", \"\", test_twitter$text)"
   ]
  },
  {
   "cell_type": "markdown",
   "metadata": {},
   "source": [
    "### 3 - Corpus cleaning\n"
   ]
  },
  {
   "cell_type": "code",
   "execution_count": 4,
   "metadata": {
    "vscode": {
     "languageId": "r"
    }
   },
   "outputs": [
    {
     "name": "stderr",
     "output_type": "stream",
     "text": [
      "Warning message in tm_map.SimpleCorpus(corpus_review, tolower):\n",
      "\"transformation drops documents\"\n",
      "Warning message in tm_map.SimpleCorpus(corpus_review, removePunctuation):\n",
      "\"transformation drops documents\"\n",
      "Warning message in tm_map.SimpleCorpus(corpus_review, removeNumbers):\n",
      "\"transformation drops documents\"\n",
      "Warning message in tm_map.SimpleCorpus(corpus_review, removeWords, stopwords(\"english\")):\n",
      "\"transformation drops documents\"\n",
      "Warning message in tm_map.SimpleCorpus(corpus_review, removeWords, my_stopwords):\n",
      "\"transformation drops documents\"\n",
      "Warning message in tm_map.SimpleCorpus(corpus_review, removeURL):\n",
      "\"transformation drops documents\"\n",
      "Warning message in tm_map.SimpleCorpus(corpus_review, content_transformer(removeURL)):\n",
      "\"transformation drops documents\"\n"
     ]
    }
   ],
   "source": [
    "# Cleaning the corpus\n",
    "twitter_get <- get_sentences(test_twitter$text)\n",
    "corpus_review = Corpus(VectorSource(twitter_get)) # Creating the corpus\n",
    "corpus_review = tm_map(corpus_review, tolower) # Converting text to lowercase\n",
    "corpus_review = tm_map(corpus_review, removePunctuation) # Removing punctuation\n",
    "corpus_review = tm_map(corpus_review, removeNumbers) # Removing numbers\n",
    "# stopwords(\"en\") # English stopwords list\n",
    "corpus_review = tm_map(corpus_review, removeWords, stopwords(\"english\")) # Removing stopwords\n",
    "my_stopwords <- c(\"may\", \"will\", \"also\", \"get\", \"made\", \"can\", \n",
    "                  \"am\", \"just\", \"i\", \"i'm\", \"of\", \"the\", \"this\", \n",
    "                  \"in\", \"know\", \"eriksolheim\", \"want\", \"need\", \n",
    "                  \"che\", \"amp\", \"check\", \"just\", \"read\", \"circulareconomy\", \n",
    "                  \"circ\", \"one\", \"&amp;\", \"&\", \";\", \"&amp\", \"wh\", \"1st\")\n",
    "corpus_review = tm_map(corpus_review, removeWords, my_stopwords) # Removing highly frequent words\n",
    "\n",
    "# Removing URLs at the end of each tweet\n",
    "removeURL <- function(x) gsub(\"http[[:alnum:]]*\", \"\", x)\n",
    "corpus_review <- tm_map(corpus_review, removeURL)\n",
    "corpus_review <- tm_map(corpus_review, content_transformer(removeURL))"
   ]
  },
  {
   "cell_type": "markdown",
   "metadata": {},
   "source": [
    "### 4 - Creating Term-Document Matrices (TDM) and Document-Term Matrices (DTM)"
   ]
  },
  {
   "cell_type": "code",
   "execution_count": 5,
   "metadata": {
    "vscode": {
     "languageId": "r"
    }
   },
   "outputs": [],
   "source": [
    "suppressWarnings(suppressMessages(\n",
    "  invisible({\n",
    "\n",
    "# Creating Term-Document Matrix (TDM) and Document-Term Matrix (DTM)\n",
    "review_tdm <- TermDocumentMatrix(corpus_review, control=list(wordlength=c(1,Inf), weighting = weightTfIdf))\n",
    "review_dtm <- DocumentTermMatrix(corpus_review, control=list(wordlength=c(1,Inf), weighting = weightTfIdf))\n",
    "\n",
    "# Converting TDM to a matrix\n",
    "review_m <- as.matrix(review_tdm)\n",
    "  })\n",
    "))"
   ]
  },
  {
   "cell_type": "markdown",
   "metadata": {},
   "source": [
    "### 5 - Identifying the most frequent terms\n"
   ]
  },
  {
   "cell_type": "code",
   "execution_count": 6,
   "metadata": {
    "vscode": {
     "languageId": "r"
    }
   },
   "outputs": [
    {
     "data": {
      "image/png": "[encoded data removed]",
      "text/plain": [
       "plot without title"
      ]
     },
     "metadata": {
      "image/png": {
       "height": 420,
       "width": 420
      }
     },
     "output_type": "display_data"
    }
   ],
   "source": [
    "# Summing term frequencies to get the total frequency of each word\n",
    "review_term_freq <- rowSums(review_m)\n",
    "# Sorting term frequencies in descending order\n",
    "review_term_freq <- sort(review_term_freq, decreasing = TRUE)\n",
    "# List of the top 20 most frequent terms\n",
    "# review_term_freq[1:20]\n",
    "# Barplot of the top 20 most frequent terms\n",
    "barplot(review_term_freq[1:20], col = \"orange\", las=2)"
   ]
  },
  {
   "cell_type": "code",
   "execution_count": 7,
   "metadata": {
    "vscode": {
     "languageId": "r"
    }
   },
   "outputs": [
    {
     "data": {
      "image/png": "[encoded data removed]",
      "text/plain": [
       "plot without title"
      ]
     },
     "metadata": {
      "image/png": {
       "height": 420,
       "width": 420
      }
     },
     "output_type": "display_data"
    }
   ],
   "source": [
    "# Wordcloud with the top 20 most frequent terms\n",
    "review_word_freq <- data.frame(term = names(review_term_freq), num = review_term_freq)\n",
    "wordcloud(review_word_freq$term, review_word_freq$num, max.words = 20, random.order = FALSE, colors = c(\"darkgreen\",\"steelblue1\",\"orange\"))\n",
    "# review_word_freq$term\n",
    "# review_word_freq$num"
   ]
  },
  {
   "cell_type": "markdown",
   "metadata": {},
   "source": [
    "### 6 - Word associations"
   ]
  },
  {
   "cell_type": "code",
   "execution_count": 8,
   "metadata": {
    "vscode": {
     "languageId": "r"
    }
   },
   "outputs": [
    {
     "data": {
      "text/html": [
       "<strong>$plastic</strong> = <style>\n",
       ".dl-inline {width: auto; margin:0; padding: 0}\n",
       ".dl-inline>dt, .dl-inline>dd {float: none; width: auto; display: inline-block}\n",
       ".dl-inline>dt::after {content: \":\\0020\"; padding-right: .5ex}\n",
       ".dl-inline>dt:not(:first-of-type) {padding-left: .5ex}\n",
       "</style><dl class=dl-inline><dt>pollution</dt><dd>0.44</dd><dt>ocean</dt><dd>0.21</dd><dt>continue</dt><dd>0.2</dd><dt>fish</dt><dd>0.17</dd><dt>gothe</dt><dd>0.13</dd><dt>convert</dt><dd>0.11</dd><dt>noon</dt><dd>0.11</dd><dt>highvalue</dt><dd>0.11</dd><dt>catalysis</dt><dd>0.11</dd></dl>\n"
      ],
      "text/latex": [
       "\\textbf{\\$plastic} = \\begin{description*}\n",
       "\\item[pollution] 0.44\n",
       "\\item[ocean] 0.21\n",
       "\\item[continue] 0.2\n",
       "\\item[fish] 0.17\n",
       "\\item[gothe] 0.13\n",
       "\\item[convert] 0.11\n",
       "\\item[noon] 0.11\n",
       "\\item[highvalue] 0.11\n",
       "\\item[catalysis] 0.11\n",
       "\\end{description*}\n"
      ],
      "text/markdown": [
       "**$plastic** = pollution\n",
       ":   0.44ocean\n",
       ":   0.21continue\n",
       ":   0.2fish\n",
       ":   0.17gothe\n",
       ":   0.13convert\n",
       ":   0.11noon\n",
       ":   0.11highvalue\n",
       ":   0.11catalysis\n",
       ":   0.11\n",
       "\n"
      ],
      "text/plain": [
       "$plastic\n",
       "pollution     ocean  continue      fish     gothe   convert      noon highvalue \n",
       "     0.44      0.21      0.20      0.17      0.13      0.11      0.11      0.11 \n",
       "catalysis \n",
       "     0.11 \n"
      ]
     },
     "metadata": {},
     "output_type": "display_data"
    },
    {
     "data": {
      "text/html": [
       "<strong>$today</strong> = <style>\n",
       ".dl-inline {width: auto; margin:0; padding: 0}\n",
       ".dl-inline>dt, .dl-inline>dd {float: none; width: auto; display: inline-block}\n",
       ".dl-inline>dt::after {content: \":\\0020\"; padding-right: .5ex}\n",
       ".dl-inline>dt:not(:first-of-type) {padding-left: .5ex}\n",
       "</style><dl class=dl-inline><dt>consumed</dt><dd>0.36</dd><dt>earthovershootday</dt><dd>0.35</dd><dt>regenerate</dt><dd>0.34</dd><dt>far</dt><dd>0.31</dd><dt>earth</dt><dd>0.31</dd><dt>year</dt><dd>0.26</dd><dt>worldcleanupday</dt><dd>0.19</dd><dt>iss</dt><dd>0.18</dd><dt>essential</dt><dd>0.17</dd><dt>homeowners</dt><dd>0.17</dd><dt>talked</dt><dd>0.15</dd><dt>btc</dt><dd>0.12</dd><dt>starts</dt><dd>0.1</dd></dl>\n"
      ],
      "text/latex": [
       "\\textbf{\\$today} = \\begin{description*}\n",
       "\\item[consumed] 0.36\n",
       "\\item[earthovershootday] 0.35\n",
       "\\item[regenerate] 0.34\n",
       "\\item[far] 0.31\n",
       "\\item[earth] 0.31\n",
       "\\item[year] 0.26\n",
       "\\item[worldcleanupday] 0.19\n",
       "\\item[iss] 0.18\n",
       "\\item[essential] 0.17\n",
       "\\item[homeowners] 0.17\n",
       "\\item[talked] 0.15\n",
       "\\item[btc] 0.12\n",
       "\\item[starts] 0.1\n",
       "\\end{description*}\n"
      ],
      "text/markdown": [
       "**$today** = consumed\n",
       ":   0.36earthovershootday\n",
       ":   0.35regenerate\n",
       ":   0.34far\n",
       ":   0.31earth\n",
       ":   0.31year\n",
       ":   0.26worldcleanupday\n",
       ":   0.19iss\n",
       ":   0.18essential\n",
       ":   0.17homeowners\n",
       ":   0.17talked\n",
       ":   0.15btc\n",
       ":   0.12starts\n",
       ":   0.1\n",
       "\n"
      ],
      "text/plain": [
       "$today\n",
       "         consumed earthovershootday        regenerate               far \n",
       "             0.36              0.35              0.34              0.31 \n",
       "            earth              year   worldcleanupday               iss \n",
       "             0.31              0.26              0.19              0.18 \n",
       "        essential        homeowners            talked               btc \n",
       "             0.17              0.17              0.15              0.12 \n",
       "           starts \n",
       "             0.10 \n"
      ]
     },
     "metadata": {},
     "output_type": "display_data"
    },
    {
     "data": {
      "text/html": [
       "<strong>$recycling</strong> = <style>\n",
       ".dl-inline {width: auto; margin:0; padding: 0}\n",
       ".dl-inline>dt, .dl-inline>dd {float: none; width: auto; display: inline-block}\n",
       ".dl-inline>dt::after {content: \":\\0020\"; padding-right: .5ex}\n",
       ".dl-inline>dt:not(:first-of-type) {padding-left: .5ex}\n",
       "</style><dl class=dl-inline><dt>potential</dt><dd>0.52</dd><dt>road</dt><dd>0.42</dd><dt>opportunit</dt><dd>0.17</dd><dt>always</dt><dd>0.13</dd><dt>high</dt><dd>0.13</dd><dt>chemical</dt><dd>0.12</dd><dt>economy</dt><dd>0.11</dd></dl>\n"
      ],
      "text/latex": [
       "\\textbf{\\$recycling} = \\begin{description*}\n",
       "\\item[potential] 0.52\n",
       "\\item[road] 0.42\n",
       "\\item[opportunit] 0.17\n",
       "\\item[always] 0.13\n",
       "\\item[high] 0.13\n",
       "\\item[chemical] 0.12\n",
       "\\item[economy] 0.11\n",
       "\\end{description*}\n"
      ],
      "text/markdown": [
       "**$recycling** = potential\n",
       ":   0.52road\n",
       ":   0.42opportunit\n",
       ":   0.17always\n",
       ":   0.13high\n",
       ":   0.13chemical\n",
       ":   0.12economy\n",
       ":   0.11\n",
       "\n"
      ],
      "text/plain": [
       "$recycling\n",
       " potential       road opportunit     always       high   chemical    economy \n",
       "      0.52       0.42       0.17       0.13       0.13       0.12       0.11 \n"
      ]
     },
     "metadata": {},
     "output_type": "display_data"
    },
    {
     "data": {
      "text/html": [
       "<strong>$waste</strong> = <style>\n",
       ".dl-inline {width: auto; margin:0; padding: 0}\n",
       ".dl-inline>dt, .dl-inline>dd {float: none; width: auto; display: inline-block}\n",
       ".dl-inline>dt::after {content: \":\\0020\"; padding-right: .5ex}\n",
       ".dl-inline>dt:not(:first-of-type) {padding-left: .5ex}\n",
       "</style><dl class=dl-inline><dt>zero</dt><dd>0.29</dd><dt>obtained</dt><dd>0.27</dd><dt>landfill</dt><dd>0.25</dd><dt>label</dt><dd>0.25</dd><dt>startups</dt><dd>0.17</dd><dt>age</dt><dd>0.15</dd><dt>food</dt><dd>0.14</dd><dt>modelling</dt><dd>0.14</dd><dt>problem</dt><dd>0.13</dd><dt>management</dt><dd>0.13</dd><dt>subje</dt><dd>0.13</dd><dt>designers</dt><dd>0.12</dd><dt>five</dt><dd>0.11</dd><dt>export</dt><dd>0.11</dd><dt>options</dt><dd>0.11</dd><dt>sites</dt><dd>0.11</dd><dt>banne</dt><dd>0.11</dd><dt>legislating</dt><dd>0.11</dd><dt>novel</dt><dd>0.1</dd></dl>\n"
      ],
      "text/latex": [
       "\\textbf{\\$waste} = \\begin{description*}\n",
       "\\item[zero] 0.29\n",
       "\\item[obtained] 0.27\n",
       "\\item[landfill] 0.25\n",
       "\\item[label] 0.25\n",
       "\\item[startups] 0.17\n",
       "\\item[age] 0.15\n",
       "\\item[food] 0.14\n",
       "\\item[modelling] 0.14\n",
       "\\item[problem] 0.13\n",
       "\\item[management] 0.13\n",
       "\\item[subje] 0.13\n",
       "\\item[designers] 0.12\n",
       "\\item[five] 0.11\n",
       "\\item[export] 0.11\n",
       "\\item[options] 0.11\n",
       "\\item[sites] 0.11\n",
       "\\item[banne] 0.11\n",
       "\\item[legislating] 0.11\n",
       "\\item[novel] 0.1\n",
       "\\end{description*}\n"
      ],
      "text/markdown": [
       "**$waste** = zero\n",
       ":   0.29obtained\n",
       ":   0.27landfill\n",
       ":   0.25label\n",
       ":   0.25startups\n",
       ":   0.17age\n",
       ":   0.15food\n",
       ":   0.14modelling\n",
       ":   0.14problem\n",
       ":   0.13management\n",
       ":   0.13subje\n",
       ":   0.13designers\n",
       ":   0.12five\n",
       ":   0.11export\n",
       ":   0.11options\n",
       ":   0.11sites\n",
       ":   0.11banne\n",
       ":   0.11legislating\n",
       ":   0.11novel\n",
       ":   0.1\n",
       "\n"
      ],
      "text/plain": [
       "$waste\n",
       "       zero    obtained    landfill       label    startups         age \n",
       "       0.29        0.27        0.25        0.25        0.17        0.15 \n",
       "       food   modelling     problem  management       subje   designers \n",
       "       0.14        0.14        0.13        0.13        0.13        0.12 \n",
       "       five      export     options       sites       banne legislating \n",
       "       0.11        0.11        0.11        0.11        0.11        0.11 \n",
       "      novel \n",
       "       0.10 \n"
      ]
     },
     "metadata": {},
     "output_type": "display_data"
    },
    {
     "data": {
      "text/html": [
       "<strong>$sustainable</strong> = <style>\n",
       ".dl-inline {width: auto; margin:0; padding: 0}\n",
       ".dl-inline>dt, .dl-inline>dd {float: none; width: auto; display: inline-block}\n",
       ".dl-inline>dt::after {content: \":\\0020\"; padding-right: .5ex}\n",
       ".dl-inline>dt:not(:first-of-type) {padding-left: .5ex}\n",
       "</style><dl class=dl-inline><dt>profitability</dt><dd>0.18</dd><dt>fries</dt><dd>0.16</dd><dt>delicious</dt><dd>0.16</dd><dt>footwear</dt><dd>0.16</dd><dt>trucks</dt><dd>0.15</dd><dt>caign</dt><dd>0.15</dd><dt>delivers</dt><dd>0.15</dd><dt>graf</dt><dd>0.15</dd><dt>pipelin</dt><dd>0.15</dd><dt>heidi</dt><dd>0.14</dd><dt>bradford</dt><dd>0.14</dd><dt>path</dt><dd>0.13</dd><dt>unprecedented</dt><dd>0.13</dd><dt>economyneither</dt><dd>0.13</dd><dt>impact</dt><dd>0.12</dd><dt>supporting</dt><dd>0.12</dd><dt>fuel</dt><dd>0.11</dd></dl>\n"
      ],
      "text/latex": [
       "\\textbf{\\$sustainable} = \\begin{description*}\n",
       "\\item[profitability] 0.18\n",
       "\\item[fries] 0.16\n",
       "\\item[delicious] 0.16\n",
       "\\item[footwear] 0.16\n",
       "\\item[trucks] 0.15\n",
       "\\item[caign] 0.15\n",
       "\\item[delivers] 0.15\n",
       "\\item[graf] 0.15\n",
       "\\item[pipelin] 0.15\n",
       "\\item[heidi] 0.14\n",
       "\\item[bradford] 0.14\n",
       "\\item[path] 0.13\n",
       "\\item[unprecedented] 0.13\n",
       "\\item[economyneither] 0.13\n",
       "\\item[impact] 0.12\n",
       "\\item[supporting] 0.12\n",
       "\\item[fuel] 0.11\n",
       "\\end{description*}\n"
      ],
      "text/markdown": [
       "**$sustainable** = profitability\n",
       ":   0.18fries\n",
       ":   0.16delicious\n",
       ":   0.16footwear\n",
       ":   0.16trucks\n",
       ":   0.15caign\n",
       ":   0.15delivers\n",
       ":   0.15graf\n",
       ":   0.15pipelin\n",
       ":   0.15heidi\n",
       ":   0.14bradford\n",
       ":   0.14path\n",
       ":   0.13unprecedented\n",
       ":   0.13economyneither\n",
       ":   0.13impact\n",
       ":   0.12supporting\n",
       ":   0.12fuel\n",
       ":   0.11\n",
       "\n"
      ],
      "text/plain": [
       "$sustainable\n",
       " profitability          fries      delicious       footwear         trucks \n",
       "          0.18           0.16           0.16           0.16           0.15 \n",
       "         caign       delivers           graf        pipelin          heidi \n",
       "          0.15           0.15           0.15           0.15           0.14 \n",
       "      bradford           path  unprecedented economyneither         impact \n",
       "          0.14           0.13           0.13           0.13           0.12 \n",
       "    supporting           fuel \n",
       "          0.12           0.11 \n"
      ]
     },
     "metadata": {},
     "output_type": "display_data"
    },
    {
     "data": {
      "image/png": "[encoded data removed]",
      "text/plain": [
       "plot without title"
      ]
     },
     "metadata": {
      "image/png": {
       "height": 420,
       "width": 420
      }
     },
     "output_type": "display_data"
    },
    {
     "data": {
      "image/png": "[encoded data removed]",
      "text/plain": [
       "plot without title"
      ]
     },
     "metadata": {
      "image/png": {
       "height": 420,
       "width": 420
      }
     },
     "output_type": "display_data"
    },
    {
     "data": {
      "image/png": "[encoded data removed]",
      "text/plain": [
       "plot without title"
      ]
     },
     "metadata": {
      "image/png": {
       "height": 420,
       "width": 420
      }
     },
     "output_type": "display_data"
    },
    {
     "data": {
      "image/png": "[encoded data removed]",
      "text/plain": [
       "plot without title"
      ]
     },
     "metadata": {
      "image/png": {
       "height": 420,
       "width": 420
      }
     },
     "output_type": "display_data"
    },
    {
     "data": {
      "image/png": "[encoded data removed]",
      "text/plain": [
       "plot without title"
      ]
     },
     "metadata": {
      "image/png": {
       "height": 420,
       "width": 420
      }
     },
     "output_type": "display_data"
    }
   ],
   "source": [
    "# Word associations\n",
    "assocs_1 = findAssocs(review_dtm, terms = \"plastic\", 0.1)\n",
    "assocs_1\n",
    "assocs_2 = findAssocs(review_dtm, terms = \"today\", 0.1)\n",
    "assocs_2\n",
    "assocs_3 = findAssocs(review_dtm, terms = \"recycling\", 0.1)\n",
    "assocs_3\n",
    "assocs_4 = findAssocs(review_dtm, terms = \"waste\", 0.1)\n",
    "assocs_4\n",
    "assocs_5 = findAssocs(review_dtm, terms = \"sustainable\", 0.1)\n",
    "assocs_5\n",
    "\n",
    "associations_df1 = list_vect2df(assocs_1)[, 2:3]\n",
    "ggplot(associations_df1, aes(y = associations_df1[, 1])) + geom_point(aes(x = associations_df1[, 2]), data = associations_df1, size = 2) + ggtitle(\"Word Associations to 'plastic'\") + theme_gdocs()\n",
    "\n",
    "associations_df2 = list_vect2df(assocs_2)[, 2:3]\n",
    "ggplot(associations_df2, aes(y = associations_df2[, 1])) + geom_point(aes(x = associations_df2[, 2]), data = associations_df2, size = 2) + ggtitle(\"Word Associations to 'today'\") + theme_gdocs()\n",
    "\n",
    "associations_df3 = list_vect2df(assocs_3)[, 2:3]\n",
    "ggplot(associations_df1, aes(y = associations_df3[, 1])) + geom_point(aes(x = associations_df3[, 2]), data = associations_df3, size = 2) + ggtitle(\"Word Associations to 'recycling'\") + theme_gdocs()\n",
    "\n",
    "associations_df4 = list_vect2df(assocs_4)[, 2:3]\n",
    "ggplot(associations_df4, aes(y = associations_df4[, 1])) + geom_point(aes(x = associations_df4[, 2]), data = associations_df4, size = 2) + ggtitle(\"Word Associations to 'waste'\") + theme_gdocs()\n",
    "\n",
    "associations_df5 = list_vect2df(assocs_5)[, 2:3]\n",
    "ggplot(associations_df5, aes(y = associations_df5[, 1])) + geom_point(aes(x = associations_df5[, 2]), data = associations_df5, size = 2) + ggtitle(\"Word Associations to 'sustainable'\") + theme_gdocs()\n"
   ]
  },
  {
   "cell_type": "markdown",
   "metadata": {},
   "source": [
    "### 7 - Bigrams and trigrams"
   ]
  },
  {
   "cell_type": "code",
   "execution_count": 9,
   "metadata": {
    "vscode": {
     "languageId": "r"
    }
   },
   "outputs": [
    {
     "data": {
      "text/html": [
       "<style>\n",
       ".dl-inline {width: auto; margin:0; padding: 0}\n",
       ".dl-inline>dt, .dl-inline>dd {float: none; width: auto; display: inline-block}\n",
       ".dl-inline>dt::after {content: \":\\0020\"; padding-right: .5ex}\n",
       ".dl-inline>dt:not(:first-of-type) {padding-left: .5ex}\n",
       "</style><dl class=dl-inline><dt>circular_economy</dt><dd>7333</dd><dt>natural_resources</dt><dd>379</dd><dt>helped_customers</dt><dd>362</dd><dt>customers_avoid</dt><dd>362</dd><dt>avoid_using</dt><dd>362</dd><dt>earth_can</dt><dd>257</dd><dt>can_regenerate</dt><dd>257</dd><dt>join_us</dt><dd>255</dd><dt>critical_need</dt><dd>231</dd><dt>zero_waste</dt><dd>164</dd></dl>\n"
      ],
      "text/latex": [
       "\\begin{description*}\n",
       "\\item[circular\\textbackslash{}\\_economy] 7333\n",
       "\\item[natural\\textbackslash{}\\_resources] 379\n",
       "\\item[helped\\textbackslash{}\\_customers] 362\n",
       "\\item[customers\\textbackslash{}\\_avoid] 362\n",
       "\\item[avoid\\textbackslash{}\\_using] 362\n",
       "\\item[earth\\textbackslash{}\\_can] 257\n",
       "\\item[can\\textbackslash{}\\_regenerate] 257\n",
       "\\item[join\\textbackslash{}\\_us] 255\n",
       "\\item[critical\\textbackslash{}\\_need] 231\n",
       "\\item[zero\\textbackslash{}\\_waste] 164\n",
       "\\end{description*}\n"
      ],
      "text/markdown": [
       "circular_economy\n",
       ":   7333natural_resources\n",
       ":   379helped_customers\n",
       ":   362customers_avoid\n",
       ":   362avoid_using\n",
       ":   362earth_can\n",
       ":   257can_regenerate\n",
       ":   257join_us\n",
       ":   255critical_need\n",
       ":   231zero_waste\n",
       ":   164\n",
       "\n"
      ],
      "text/plain": [
       " circular_economy natural_resources  helped_customers   customers_avoid \n",
       "             7333               379               362               362 \n",
       "      avoid_using         earth_can    can_regenerate           join_us \n",
       "              362               257               257               255 \n",
       "    critical_need        zero_waste \n",
       "              231               164 "
      ]
     },
     "metadata": {},
     "output_type": "display_data"
    },
    {
     "data": {
      "text/html": [
       "<style>\n",
       ".dl-inline {width: auto; margin:0; padding: 0}\n",
       ".dl-inline>dt, .dl-inline>dd {float: none; width: auto; display: inline-block}\n",
       ".dl-inline>dt::after {content: \":\\0020\"; padding-right: .5ex}\n",
       ".dl-inline>dt:not(:first-of-type) {padding-left: .5ex}\n",
       "</style><dl class=dl-inline><dt>helped_customers_avoid</dt><dd>362</dd><dt>customers_avoid_using</dt><dd>362</dd><dt>earth_can_regenerate</dt><dd>257</dd><dt>advanced_pig_farm</dt><dd>141</dd><dt>circular_carbon_economy</dt><dd>136</dd><dt>new_circular_economy</dt><dd>120</dd><dt>see_govt_legislating</dt><dd>88</dd><dt>circular_economy_forum</dt><dd>79</dd><dt>ellen_macarthur_foundation</dt><dd>72</dd><dt>world_circular_economy</dt><dd>70</dd></dl>\n"
      ],
      "text/latex": [
       "\\begin{description*}\n",
       "\\item[helped\\textbackslash{}\\_customers\\textbackslash{}\\_avoid] 362\n",
       "\\item[customers\\textbackslash{}\\_avoid\\textbackslash{}\\_using] 362\n",
       "\\item[earth\\textbackslash{}\\_can\\textbackslash{}\\_regenerate] 257\n",
       "\\item[advanced\\textbackslash{}\\_pig\\textbackslash{}\\_farm] 141\n",
       "\\item[circular\\textbackslash{}\\_carbon\\textbackslash{}\\_economy] 136\n",
       "\\item[new\\textbackslash{}\\_circular\\textbackslash{}\\_economy] 120\n",
       "\\item[see\\textbackslash{}\\_govt\\textbackslash{}\\_legislating] 88\n",
       "\\item[circular\\textbackslash{}\\_economy\\textbackslash{}\\_forum] 79\n",
       "\\item[ellen\\textbackslash{}\\_macarthur\\textbackslash{}\\_foundation] 72\n",
       "\\item[world\\textbackslash{}\\_circular\\textbackslash{}\\_economy] 70\n",
       "\\end{description*}\n"
      ],
      "text/markdown": [
       "helped_customers_avoid\n",
       ":   362customers_avoid_using\n",
       ":   362earth_can_regenerate\n",
       ":   257advanced_pig_farm\n",
       ":   141circular_carbon_economy\n",
       ":   136new_circular_economy\n",
       ":   120see_govt_legislating\n",
       ":   88circular_economy_forum\n",
       ":   79ellen_macarthur_foundation\n",
       ":   72world_circular_economy\n",
       ":   70\n",
       "\n"
      ],
      "text/plain": [
       "    helped_customers_avoid      customers_avoid_using \n",
       "                       362                        362 \n",
       "      earth_can_regenerate          advanced_pig_farm \n",
       "                       257                        141 \n",
       "   circular_carbon_economy       new_circular_economy \n",
       "                       136                        120 \n",
       "      see_govt_legislating     circular_economy_forum \n",
       "                        88                         79 \n",
       "ellen_macarthur_foundation     world_circular_economy \n",
       "                        72                         70 "
      ]
     },
     "metadata": {},
     "output_type": "display_data"
    }
   ],
   "source": [
    "# Creating bigrams\n",
    "review_bigram = tokens(test_twitter$text) %>%\n",
    "  tokens_remove(\"\\\\p{P}\", valuetype = \"regex\", padding = TRUE) %>%\n",
    "  tokens_remove(stopwords(\"english\"), padding  = TRUE) %>%\n",
    "  tokens_ngrams(n = 2) %>%\n",
    "  dfm()\n",
    "topfeatures(review_bigram)\n",
    "\n",
    "# Creating trigrams\n",
    "review_trigram = tokens(test_twitter$text) %>%\n",
    "  tokens_remove(\"\\\\p{P}\", valuetype = \"regex\", padding = TRUE) %>%\n",
    "  tokens_remove(stopwords(\"english\"), padding  = TRUE) %>%\n",
    "  tokens_ngrams(n = 3) %>%\n",
    "  dfm()\n",
    "topfeatures(review_trigram)"
   ]
  },
  {
   "cell_type": "markdown",
   "metadata": {},
   "source": [
    "### 8 - General sentiment analysis"
   ]
  },
  {
   "cell_type": "code",
   "execution_count": 10,
   "metadata": {
    "vscode": {
     "languageId": "r"
    }
   },
   "outputs": [
    {
     "name": "stdout",
     "output_type": "stream",
     "text": [
      "sentiment sum: 12617.3 \n"
     ]
    }
   ],
   "source": [
    "# General sentiment analysis using the syuzhet package\n",
    "sentiment_Syuzhet = get_sentiment(test_twitter$text)\n",
    "sum_sentiment = sum(sentiment_Syuzhet)\n",
    "cat(\"sentiment sum:\", sum_sentiment, \"\\n\")"
   ]
  },
  {
   "cell_type": "code",
   "execution_count": 11,
   "metadata": {
    "vscode": {
     "languageId": "r"
    }
   },
   "outputs": [
    {
     "data": {
      "text/html": [
       "<table class=\"dataframe\">\n",
       "<caption>A data.frame: 17799 × 10</caption>\n",
       "<thead>\n",
       "\t<tr><th scope=col>anger</th><th scope=col>anticipation</th><th scope=col>disgust</th><th scope=col>fear</th><th scope=col>joy</th><th scope=col>sadness</th><th scope=col>surprise</th><th scope=col>trust</th><th scope=col>negative</th><th scope=col>positive</th></tr>\n",
       "\t<tr><th scope=col>&lt;dbl&gt;</th><th scope=col>&lt;dbl&gt;</th><th scope=col>&lt;dbl&gt;</th><th scope=col>&lt;dbl&gt;</th><th scope=col>&lt;dbl&gt;</th><th scope=col>&lt;dbl&gt;</th><th scope=col>&lt;dbl&gt;</th><th scope=col>&lt;dbl&gt;</th><th scope=col>&lt;dbl&gt;</th><th scope=col>&lt;dbl&gt;</th></tr>\n",
       "</thead>\n",
       "<tbody>\n",
       "\t<tr><td>0</td><td>0</td><td>0</td><td>0</td><td>0</td><td>0</td><td>0</td><td>2</td><td>0</td><td>2</td></tr>\n",
       "\t<tr><td>0</td><td>0</td><td>0</td><td>0</td><td>0</td><td>0</td><td>0</td><td>1</td><td>0</td><td>1</td></tr>\n",
       "\t<tr><td>0</td><td>0</td><td>0</td><td>0</td><td>0</td><td>0</td><td>0</td><td>0</td><td>0</td><td>0</td></tr>\n",
       "\t<tr><td>0</td><td>2</td><td>0</td><td>0</td><td>1</td><td>0</td><td>1</td><td>1</td><td>0</td><td>3</td></tr>\n",
       "\t<tr><td>0</td><td>0</td><td>0</td><td>0</td><td>0</td><td>0</td><td>0</td><td>1</td><td>0</td><td>0</td></tr>\n",
       "\t<tr><td>0</td><td>1</td><td>0</td><td>0</td><td>0</td><td>0</td><td>0</td><td>1</td><td>0</td><td>0</td></tr>\n",
       "\t<tr><td>0</td><td>1</td><td>0</td><td>0</td><td>0</td><td>0</td><td>0</td><td>1</td><td>0</td><td>0</td></tr>\n",
       "\t<tr><td>0</td><td>0</td><td>0</td><td>0</td><td>0</td><td>0</td><td>0</td><td>1</td><td>0</td><td>0</td></tr>\n",
       "\t<tr><td>0</td><td>0</td><td>0</td><td>0</td><td>0</td><td>0</td><td>0</td><td>2</td><td>0</td><td>0</td></tr>\n",
       "\t<tr><td>0</td><td>0</td><td>0</td><td>0</td><td>0</td><td>0</td><td>0</td><td>1</td><td>0</td><td>0</td></tr>\n",
       "\t<tr><td>0</td><td>0</td><td>1</td><td>0</td><td>0</td><td>0</td><td>0</td><td>2</td><td>1</td><td>0</td></tr>\n",
       "\t<tr><td>0</td><td>0</td><td>0</td><td>0</td><td>0</td><td>0</td><td>0</td><td>1</td><td>0</td><td>1</td></tr>\n",
       "\t<tr><td>0</td><td>0</td><td>0</td><td>0</td><td>0</td><td>0</td><td>0</td><td>1</td><td>0</td><td>0</td></tr>\n",
       "\t<tr><td>0</td><td>0</td><td>0</td><td>0</td><td>0</td><td>0</td><td>0</td><td>0</td><td>0</td><td>0</td></tr>\n",
       "\t<tr><td>0</td><td>1</td><td>0</td><td>0</td><td>0</td><td>0</td><td>0</td><td>0</td><td>0</td><td>1</td></tr>\n",
       "\t<tr><td>0</td><td>0</td><td>0</td><td>0</td><td>1</td><td>0</td><td>0</td><td>1</td><td>0</td><td>2</td></tr>\n",
       "\t<tr><td>0</td><td>2</td><td>0</td><td>0</td><td>1</td><td>0</td><td>1</td><td>1</td><td>0</td><td>3</td></tr>\n",
       "\t<tr><td>0</td><td>0</td><td>0</td><td>0</td><td>2</td><td>0</td><td>1</td><td>1</td><td>0</td><td>2</td></tr>\n",
       "\t<tr><td>0</td><td>1</td><td>0</td><td>0</td><td>0</td><td>0</td><td>0</td><td>0</td><td>0</td><td>0</td></tr>\n",
       "\t<tr><td>0</td><td>0</td><td>0</td><td>0</td><td>0</td><td>0</td><td>0</td><td>2</td><td>0</td><td>0</td></tr>\n",
       "\t<tr><td>0</td><td>0</td><td>0</td><td>0</td><td>0</td><td>0</td><td>0</td><td>1</td><td>0</td><td>1</td></tr>\n",
       "\t<tr><td>0</td><td>0</td><td>0</td><td>0</td><td>0</td><td>0</td><td>0</td><td>1</td><td>0</td><td>0</td></tr>\n",
       "\t<tr><td>0</td><td>0</td><td>0</td><td>0</td><td>0</td><td>0</td><td>0</td><td>0</td><td>0</td><td>2</td></tr>\n",
       "\t<tr><td>1</td><td>0</td><td>0</td><td>1</td><td>0</td><td>1</td><td>0</td><td>0</td><td>1</td><td>1</td></tr>\n",
       "\t<tr><td>0</td><td>0</td><td>0</td><td>0</td><td>0</td><td>0</td><td>0</td><td>1</td><td>0</td><td>0</td></tr>\n",
       "\t<tr><td>0</td><td>1</td><td>0</td><td>0</td><td>0</td><td>0</td><td>0</td><td>0</td><td>0</td><td>2</td></tr>\n",
       "\t<tr><td>0</td><td>0</td><td>0</td><td>0</td><td>0</td><td>0</td><td>0</td><td>1</td><td>0</td><td>3</td></tr>\n",
       "\t<tr><td>0</td><td>0</td><td>0</td><td>1</td><td>0</td><td>0</td><td>0</td><td>0</td><td>0</td><td>1</td></tr>\n",
       "\t<tr><td>0</td><td>2</td><td>0</td><td>0</td><td>1</td><td>0</td><td>0</td><td>2</td><td>0</td><td>3</td></tr>\n",
       "\t<tr><td>0</td><td>0</td><td>1</td><td>0</td><td>1</td><td>0</td><td>0</td><td>2</td><td>1</td><td>3</td></tr>\n",
       "\t<tr><td>⋮</td><td>⋮</td><td>⋮</td><td>⋮</td><td>⋮</td><td>⋮</td><td>⋮</td><td>⋮</td><td>⋮</td><td>⋮</td></tr>\n",
       "\t<tr><td>0</td><td>0</td><td>1</td><td>0</td><td>0</td><td>0</td><td>0</td><td>1</td><td>1</td><td>0</td></tr>\n",
       "\t<tr><td>0</td><td>0</td><td>1</td><td>0</td><td>0</td><td>0</td><td>0</td><td>1</td><td>1</td><td>0</td></tr>\n",
       "\t<tr><td>0</td><td>0</td><td>0</td><td>0</td><td>1</td><td>0</td><td>1</td><td>1</td><td>0</td><td>2</td></tr>\n",
       "\t<tr><td>0</td><td>0</td><td>1</td><td>0</td><td>0</td><td>0</td><td>0</td><td>1</td><td>1</td><td>0</td></tr>\n",
       "\t<tr><td>0</td><td>0</td><td>1</td><td>0</td><td>0</td><td>0</td><td>0</td><td>1</td><td>1</td><td>0</td></tr>\n",
       "\t<tr><td>0</td><td>0</td><td>0</td><td>1</td><td>0</td><td>0</td><td>0</td><td>1</td><td>2</td><td>0</td></tr>\n",
       "\t<tr><td>0</td><td>1</td><td>0</td><td>0</td><td>0</td><td>0</td><td>0</td><td>0</td><td>0</td><td>0</td></tr>\n",
       "\t<tr><td>0</td><td>0</td><td>0</td><td>0</td><td>0</td><td>0</td><td>0</td><td>1</td><td>0</td><td>2</td></tr>\n",
       "\t<tr><td>0</td><td>1</td><td>0</td><td>0</td><td>0</td><td>0</td><td>0</td><td>2</td><td>0</td><td>2</td></tr>\n",
       "\t<tr><td>0</td><td>0</td><td>1</td><td>0</td><td>0</td><td>0</td><td>0</td><td>1</td><td>1</td><td>0</td></tr>\n",
       "\t<tr><td>0</td><td>1</td><td>0</td><td>0</td><td>0</td><td>0</td><td>0</td><td>2</td><td>0</td><td>2</td></tr>\n",
       "\t<tr><td>0</td><td>0</td><td>1</td><td>0</td><td>0</td><td>0</td><td>0</td><td>1</td><td>1</td><td>0</td></tr>\n",
       "\t<tr><td>0</td><td>0</td><td>1</td><td>0</td><td>0</td><td>0</td><td>0</td><td>1</td><td>1</td><td>0</td></tr>\n",
       "\t<tr><td>0</td><td>0</td><td>1</td><td>0</td><td>0</td><td>0</td><td>0</td><td>1</td><td>1</td><td>0</td></tr>\n",
       "\t<tr><td>0</td><td>0</td><td>1</td><td>0</td><td>1</td><td>0</td><td>0</td><td>2</td><td>1</td><td>1</td></tr>\n",
       "\t<tr><td>0</td><td>0</td><td>1</td><td>0</td><td>0</td><td>0</td><td>0</td><td>1</td><td>1</td><td>0</td></tr>\n",
       "\t<tr><td>0</td><td>0</td><td>1</td><td>0</td><td>0</td><td>0</td><td>0</td><td>1</td><td>1</td><td>0</td></tr>\n",
       "\t<tr><td>0</td><td>0</td><td>1</td><td>0</td><td>0</td><td>0</td><td>0</td><td>1</td><td>1</td><td>0</td></tr>\n",
       "\t<tr><td>0</td><td>0</td><td>1</td><td>0</td><td>0</td><td>1</td><td>0</td><td>0</td><td>0</td><td>2</td></tr>\n",
       "\t<tr><td>0</td><td>1</td><td>0</td><td>0</td><td>2</td><td>1</td><td>1</td><td>1</td><td>0</td><td>2</td></tr>\n",
       "\t<tr><td>0</td><td>0</td><td>0</td><td>0</td><td>0</td><td>0</td><td>0</td><td>1</td><td>0</td><td>2</td></tr>\n",
       "\t<tr><td>0</td><td>0</td><td>1</td><td>0</td><td>1</td><td>0</td><td>0</td><td>2</td><td>1</td><td>1</td></tr>\n",
       "\t<tr><td>0</td><td>0</td><td>1</td><td>0</td><td>0</td><td>0</td><td>0</td><td>1</td><td>1</td><td>0</td></tr>\n",
       "\t<tr><td>0</td><td>0</td><td>1</td><td>0</td><td>0</td><td>0</td><td>0</td><td>1</td><td>1</td><td>1</td></tr>\n",
       "\t<tr><td>0</td><td>0</td><td>1</td><td>0</td><td>0</td><td>0</td><td>0</td><td>1</td><td>1</td><td>0</td></tr>\n",
       "\t<tr><td>0</td><td>1</td><td>0</td><td>0</td><td>1</td><td>0</td><td>0</td><td>3</td><td>0</td><td>5</td></tr>\n",
       "\t<tr><td>0</td><td>0</td><td>0</td><td>0</td><td>0</td><td>0</td><td>0</td><td>1</td><td>0</td><td>2</td></tr>\n",
       "\t<tr><td>0</td><td>0</td><td>0</td><td>0</td><td>0</td><td>0</td><td>0</td><td>1</td><td>0</td><td>2</td></tr>\n",
       "\t<tr><td>0</td><td>0</td><td>0</td><td>0</td><td>0</td><td>0</td><td>0</td><td>0</td><td>0</td><td>2</td></tr>\n",
       "\t<tr><td>0</td><td>1</td><td>0</td><td>0</td><td>0</td><td>0</td><td>0</td><td>0</td><td>0</td><td>0</td></tr>\n",
       "</tbody>\n",
       "</table>\n"
      ],
      "text/latex": [
       "A data.frame: 17799 × 10\n",
       "\\begin{tabular}{llllllllll}\n",
       " anger & anticipation & disgust & fear & joy & sadness & surprise & trust & negative & positive\\\\\n",
       " <dbl> & <dbl> & <dbl> & <dbl> & <dbl> & <dbl> & <dbl> & <dbl> & <dbl> & <dbl>\\\\\n",
       "\\hline\n",
       "\t 0 & 0 & 0 & 0 & 0 & 0 & 0 & 2 & 0 & 2\\\\\n",
       "\t 0 & 0 & 0 & 0 & 0 & 0 & 0 & 1 & 0 & 1\\\\\n",
       "\t 0 & 0 & 0 & 0 & 0 & 0 & 0 & 0 & 0 & 0\\\\\n",
       "\t 0 & 2 & 0 & 0 & 1 & 0 & 1 & 1 & 0 & 3\\\\\n",
       "\t 0 & 0 & 0 & 0 & 0 & 0 & 0 & 1 & 0 & 0\\\\\n",
       "\t 0 & 1 & 0 & 0 & 0 & 0 & 0 & 1 & 0 & 0\\\\\n",
       "\t 0 & 1 & 0 & 0 & 0 & 0 & 0 & 1 & 0 & 0\\\\\n",
       "\t 0 & 0 & 0 & 0 & 0 & 0 & 0 & 1 & 0 & 0\\\\\n",
       "\t 0 & 0 & 0 & 0 & 0 & 0 & 0 & 2 & 0 & 0\\\\\n",
       "\t 0 & 0 & 0 & 0 & 0 & 0 & 0 & 1 & 0 & 0\\\\\n",
       "\t 0 & 0 & 1 & 0 & 0 & 0 & 0 & 2 & 1 & 0\\\\\n",
       "\t 0 & 0 & 0 & 0 & 0 & 0 & 0 & 1 & 0 & 1\\\\\n",
       "\t 0 & 0 & 0 & 0 & 0 & 0 & 0 & 1 & 0 & 0\\\\\n",
       "\t 0 & 0 & 0 & 0 & 0 & 0 & 0 & 0 & 0 & 0\\\\\n",
       "\t 0 & 1 & 0 & 0 & 0 & 0 & 0 & 0 & 0 & 1\\\\\n",
       "\t 0 & 0 & 0 & 0 & 1 & 0 & 0 & 1 & 0 & 2\\\\\n",
       "\t 0 & 2 & 0 & 0 & 1 & 0 & 1 & 1 & 0 & 3\\\\\n",
       "\t 0 & 0 & 0 & 0 & 2 & 0 & 1 & 1 & 0 & 2\\\\\n",
       "\t 0 & 1 & 0 & 0 & 0 & 0 & 0 & 0 & 0 & 0\\\\\n",
       "\t 0 & 0 & 0 & 0 & 0 & 0 & 0 & 2 & 0 & 0\\\\\n",
       "\t 0 & 0 & 0 & 0 & 0 & 0 & 0 & 1 & 0 & 1\\\\\n",
       "\t 0 & 0 & 0 & 0 & 0 & 0 & 0 & 1 & 0 & 0\\\\\n",
       "\t 0 & 0 & 0 & 0 & 0 & 0 & 0 & 0 & 0 & 2\\\\\n",
       "\t 1 & 0 & 0 & 1 & 0 & 1 & 0 & 0 & 1 & 1\\\\\n",
       "\t 0 & 0 & 0 & 0 & 0 & 0 & 0 & 1 & 0 & 0\\\\\n",
       "\t 0 & 1 & 0 & 0 & 0 & 0 & 0 & 0 & 0 & 2\\\\\n",
       "\t 0 & 0 & 0 & 0 & 0 & 0 & 0 & 1 & 0 & 3\\\\\n",
       "\t 0 & 0 & 0 & 1 & 0 & 0 & 0 & 0 & 0 & 1\\\\\n",
       "\t 0 & 2 & 0 & 0 & 1 & 0 & 0 & 2 & 0 & 3\\\\\n",
       "\t 0 & 0 & 1 & 0 & 1 & 0 & 0 & 2 & 1 & 3\\\\\n",
       "\t ⋮ & ⋮ & ⋮ & ⋮ & ⋮ & ⋮ & ⋮ & ⋮ & ⋮ & ⋮\\\\\n",
       "\t 0 & 0 & 1 & 0 & 0 & 0 & 0 & 1 & 1 & 0\\\\\n",
       "\t 0 & 0 & 1 & 0 & 0 & 0 & 0 & 1 & 1 & 0\\\\\n",
       "\t 0 & 0 & 0 & 0 & 1 & 0 & 1 & 1 & 0 & 2\\\\\n",
       "\t 0 & 0 & 1 & 0 & 0 & 0 & 0 & 1 & 1 & 0\\\\\n",
       "\t 0 & 0 & 1 & 0 & 0 & 0 & 0 & 1 & 1 & 0\\\\\n",
       "\t 0 & 0 & 0 & 1 & 0 & 0 & 0 & 1 & 2 & 0\\\\\n",
       "\t 0 & 1 & 0 & 0 & 0 & 0 & 0 & 0 & 0 & 0\\\\\n",
       "\t 0 & 0 & 0 & 0 & 0 & 0 & 0 & 1 & 0 & 2\\\\\n",
       "\t 0 & 1 & 0 & 0 & 0 & 0 & 0 & 2 & 0 & 2\\\\\n",
       "\t 0 & 0 & 1 & 0 & 0 & 0 & 0 & 1 & 1 & 0\\\\\n",
       "\t 0 & 1 & 0 & 0 & 0 & 0 & 0 & 2 & 0 & 2\\\\\n",
       "\t 0 & 0 & 1 & 0 & 0 & 0 & 0 & 1 & 1 & 0\\\\\n",
       "\t 0 & 0 & 1 & 0 & 0 & 0 & 0 & 1 & 1 & 0\\\\\n",
       "\t 0 & 0 & 1 & 0 & 0 & 0 & 0 & 1 & 1 & 0\\\\\n",
       "\t 0 & 0 & 1 & 0 & 1 & 0 & 0 & 2 & 1 & 1\\\\\n",
       "\t 0 & 0 & 1 & 0 & 0 & 0 & 0 & 1 & 1 & 0\\\\\n",
       "\t 0 & 0 & 1 & 0 & 0 & 0 & 0 & 1 & 1 & 0\\\\\n",
       "\t 0 & 0 & 1 & 0 & 0 & 0 & 0 & 1 & 1 & 0\\\\\n",
       "\t 0 & 0 & 1 & 0 & 0 & 1 & 0 & 0 & 0 & 2\\\\\n",
       "\t 0 & 1 & 0 & 0 & 2 & 1 & 1 & 1 & 0 & 2\\\\\n",
       "\t 0 & 0 & 0 & 0 & 0 & 0 & 0 & 1 & 0 & 2\\\\\n",
       "\t 0 & 0 & 1 & 0 & 1 & 0 & 0 & 2 & 1 & 1\\\\\n",
       "\t 0 & 0 & 1 & 0 & 0 & 0 & 0 & 1 & 1 & 0\\\\\n",
       "\t 0 & 0 & 1 & 0 & 0 & 0 & 0 & 1 & 1 & 1\\\\\n",
       "\t 0 & 0 & 1 & 0 & 0 & 0 & 0 & 1 & 1 & 0\\\\\n",
       "\t 0 & 1 & 0 & 0 & 1 & 0 & 0 & 3 & 0 & 5\\\\\n",
       "\t 0 & 0 & 0 & 0 & 0 & 0 & 0 & 1 & 0 & 2\\\\\n",
       "\t 0 & 0 & 0 & 0 & 0 & 0 & 0 & 1 & 0 & 2\\\\\n",
       "\t 0 & 0 & 0 & 0 & 0 & 0 & 0 & 0 & 0 & 2\\\\\n",
       "\t 0 & 1 & 0 & 0 & 0 & 0 & 0 & 0 & 0 & 0\\\\\n",
       "\\end{tabular}\n"
      ],
      "text/markdown": [
       "\n",
       "A data.frame: 17799 × 10\n",
       "\n",
       "| anger &lt;dbl&gt; | anticipation &lt;dbl&gt; | disgust &lt;dbl&gt; | fear &lt;dbl&gt; | joy &lt;dbl&gt; | sadness &lt;dbl&gt; | surprise &lt;dbl&gt; | trust &lt;dbl&gt; | negative &lt;dbl&gt; | positive &lt;dbl&gt; |\n",
       "|---|---|---|---|---|---|---|---|---|---|\n",
       "| 0 | 0 | 0 | 0 | 0 | 0 | 0 | 2 | 0 | 2 |\n",
       "| 0 | 0 | 0 | 0 | 0 | 0 | 0 | 1 | 0 | 1 |\n",
       "| 0 | 0 | 0 | 0 | 0 | 0 | 0 | 0 | 0 | 0 |\n",
       "| 0 | 2 | 0 | 0 | 1 | 0 | 1 | 1 | 0 | 3 |\n",
       "| 0 | 0 | 0 | 0 | 0 | 0 | 0 | 1 | 0 | 0 |\n",
       "| 0 | 1 | 0 | 0 | 0 | 0 | 0 | 1 | 0 | 0 |\n",
       "| 0 | 1 | 0 | 0 | 0 | 0 | 0 | 1 | 0 | 0 |\n",
       "| 0 | 0 | 0 | 0 | 0 | 0 | 0 | 1 | 0 | 0 |\n",
       "| 0 | 0 | 0 | 0 | 0 | 0 | 0 | 2 | 0 | 0 |\n",
       "| 0 | 0 | 0 | 0 | 0 | 0 | 0 | 1 | 0 | 0 |\n",
       "| 0 | 0 | 1 | 0 | 0 | 0 | 0 | 2 | 1 | 0 |\n",
       "| 0 | 0 | 0 | 0 | 0 | 0 | 0 | 1 | 0 | 1 |\n",
       "| 0 | 0 | 0 | 0 | 0 | 0 | 0 | 1 | 0 | 0 |\n",
       "| 0 | 0 | 0 | 0 | 0 | 0 | 0 | 0 | 0 | 0 |\n",
       "| 0 | 1 | 0 | 0 | 0 | 0 | 0 | 0 | 0 | 1 |\n",
       "| 0 | 0 | 0 | 0 | 1 | 0 | 0 | 1 | 0 | 2 |\n",
       "| 0 | 2 | 0 | 0 | 1 | 0 | 1 | 1 | 0 | 3 |\n",
       "| 0 | 0 | 0 | 0 | 2 | 0 | 1 | 1 | 0 | 2 |\n",
       "| 0 | 1 | 0 | 0 | 0 | 0 | 0 | 0 | 0 | 0 |\n",
       "| 0 | 0 | 0 | 0 | 0 | 0 | 0 | 2 | 0 | 0 |\n",
       "| 0 | 0 | 0 | 0 | 0 | 0 | 0 | 1 | 0 | 1 |\n",
       "| 0 | 0 | 0 | 0 | 0 | 0 | 0 | 1 | 0 | 0 |\n",
       "| 0 | 0 | 0 | 0 | 0 | 0 | 0 | 0 | 0 | 2 |\n",
       "| 1 | 0 | 0 | 1 | 0 | 1 | 0 | 0 | 1 | 1 |\n",
       "| 0 | 0 | 0 | 0 | 0 | 0 | 0 | 1 | 0 | 0 |\n",
       "| 0 | 1 | 0 | 0 | 0 | 0 | 0 | 0 | 0 | 2 |\n",
       "| 0 | 0 | 0 | 0 | 0 | 0 | 0 | 1 | 0 | 3 |\n",
       "| 0 | 0 | 0 | 1 | 0 | 0 | 0 | 0 | 0 | 1 |\n",
       "| 0 | 2 | 0 | 0 | 1 | 0 | 0 | 2 | 0 | 3 |\n",
       "| 0 | 0 | 1 | 0 | 1 | 0 | 0 | 2 | 1 | 3 |\n",
       "| ⋮ | ⋮ | ⋮ | ⋮ | ⋮ | ⋮ | ⋮ | ⋮ | ⋮ | ⋮ |\n",
       "| 0 | 0 | 1 | 0 | 0 | 0 | 0 | 1 | 1 | 0 |\n",
       "| 0 | 0 | 1 | 0 | 0 | 0 | 0 | 1 | 1 | 0 |\n",
       "| 0 | 0 | 0 | 0 | 1 | 0 | 1 | 1 | 0 | 2 |\n",
       "| 0 | 0 | 1 | 0 | 0 | 0 | 0 | 1 | 1 | 0 |\n",
       "| 0 | 0 | 1 | 0 | 0 | 0 | 0 | 1 | 1 | 0 |\n",
       "| 0 | 0 | 0 | 1 | 0 | 0 | 0 | 1 | 2 | 0 |\n",
       "| 0 | 1 | 0 | 0 | 0 | 0 | 0 | 0 | 0 | 0 |\n",
       "| 0 | 0 | 0 | 0 | 0 | 0 | 0 | 1 | 0 | 2 |\n",
       "| 0 | 1 | 0 | 0 | 0 | 0 | 0 | 2 | 0 | 2 |\n",
       "| 0 | 0 | 1 | 0 | 0 | 0 | 0 | 1 | 1 | 0 |\n",
       "| 0 | 1 | 0 | 0 | 0 | 0 | 0 | 2 | 0 | 2 |\n",
       "| 0 | 0 | 1 | 0 | 0 | 0 | 0 | 1 | 1 | 0 |\n",
       "| 0 | 0 | 1 | 0 | 0 | 0 | 0 | 1 | 1 | 0 |\n",
       "| 0 | 0 | 1 | 0 | 0 | 0 | 0 | 1 | 1 | 0 |\n",
       "| 0 | 0 | 1 | 0 | 1 | 0 | 0 | 2 | 1 | 1 |\n",
       "| 0 | 0 | 1 | 0 | 0 | 0 | 0 | 1 | 1 | 0 |\n",
       "| 0 | 0 | 1 | 0 | 0 | 0 | 0 | 1 | 1 | 0 |\n",
       "| 0 | 0 | 1 | 0 | 0 | 0 | 0 | 1 | 1 | 0 |\n",
       "| 0 | 0 | 1 | 0 | 0 | 1 | 0 | 0 | 0 | 2 |\n",
       "| 0 | 1 | 0 | 0 | 2 | 1 | 1 | 1 | 0 | 2 |\n",
       "| 0 | 0 | 0 | 0 | 0 | 0 | 0 | 1 | 0 | 2 |\n",
       "| 0 | 0 | 1 | 0 | 1 | 0 | 0 | 2 | 1 | 1 |\n",
       "| 0 | 0 | 1 | 0 | 0 | 0 | 0 | 1 | 1 | 0 |\n",
       "| 0 | 0 | 1 | 0 | 0 | 0 | 0 | 1 | 1 | 1 |\n",
       "| 0 | 0 | 1 | 0 | 0 | 0 | 0 | 1 | 1 | 0 |\n",
       "| 0 | 1 | 0 | 0 | 1 | 0 | 0 | 3 | 0 | 5 |\n",
       "| 0 | 0 | 0 | 0 | 0 | 0 | 0 | 1 | 0 | 2 |\n",
       "| 0 | 0 | 0 | 0 | 0 | 0 | 0 | 1 | 0 | 2 |\n",
       "| 0 | 0 | 0 | 0 | 0 | 0 | 0 | 0 | 0 | 2 |\n",
       "| 0 | 1 | 0 | 0 | 0 | 0 | 0 | 0 | 0 | 0 |\n",
       "\n"
      ],
      "text/plain": [
       "      anger anticipation disgust fear joy sadness surprise trust negative\n",
       "1     0     0            0       0    0   0       0        2     0       \n",
       "2     0     0            0       0    0   0       0        1     0       \n",
       "3     0     0            0       0    0   0       0        0     0       \n",
       "4     0     2            0       0    1   0       1        1     0       \n",
       "5     0     0            0       0    0   0       0        1     0       \n",
       "6     0     1            0       0    0   0       0        1     0       \n",
       "7     0     1            0       0    0   0       0        1     0       \n",
       "8     0     0            0       0    0   0       0        1     0       \n",
       "9     0     0            0       0    0   0       0        2     0       \n",
       "10    0     0            0       0    0   0       0        1     0       \n",
       "      positive\n",
       "1     2       \n",
       "2     1       \n",
       "3     0       \n",
       "4     3       \n",
       "5     0       \n",
       "6     0       \n",
       "7     0       \n",
       "8     0       \n",
       "9     0       \n",
       "10    0       \n",
       " [ raggiunto getOption(\"max.print\") -- omesse 51 righe ]"
      ]
     },
     "metadata": {},
     "output_type": "display_data"
    }
   ],
   "source": [
    "sentiment_nrc = get_nrc_sentiment(test_twitter$text)\n",
    "sentiment_nrc\n"
   ]
  },
  {
   "cell_type": "code",
   "execution_count": 12,
   "metadata": {
    "vscode": {
     "languageId": "r"
    }
   },
   "outputs": [
    {
     "data": {
      "text/html": [
       "<style>\n",
       ".dl-inline {width: auto; margin:0; padding: 0}\n",
       ".dl-inline>dt, .dl-inline>dd {float: none; width: auto; display: inline-block}\n",
       ".dl-inline>dt::after {content: \":\\0020\"; padding-right: .5ex}\n",
       ".dl-inline>dt:not(:first-of-type) {padding-left: .5ex}\n",
       "</style><dl class=dl-inline><dt>anger</dt><dd>1524</dd><dt>anticipation</dt><dd>6712</dd><dt>disgust</dt><dd>2843</dd><dt>fear</dt><dd>2719</dd><dt>joy</dt><dd>5620</dd><dt>sadness</dt><dd>1677</dd><dt>surprise</dt><dd>2009</dd><dt>trust</dt><dd>17875</dd><dt>negative</dt><dd>5883</dd><dt>positive</dt><dd>18805</dd></dl>\n"
      ],
      "text/latex": [
       "\\begin{description*}\n",
       "\\item[anger] 1524\n",
       "\\item[anticipation] 6712\n",
       "\\item[disgust] 2843\n",
       "\\item[fear] 2719\n",
       "\\item[joy] 5620\n",
       "\\item[sadness] 1677\n",
       "\\item[surprise] 2009\n",
       "\\item[trust] 17875\n",
       "\\item[negative] 5883\n",
       "\\item[positive] 18805\n",
       "\\end{description*}\n"
      ],
      "text/markdown": [
       "anger\n",
       ":   1524anticipation\n",
       ":   6712disgust\n",
       ":   2843fear\n",
       ":   2719joy\n",
       ":   5620sadness\n",
       ":   1677surprise\n",
       ":   2009trust\n",
       ":   17875negative\n",
       ":   5883positive\n",
       ":   18805\n",
       "\n"
      ],
      "text/plain": [
       "       anger anticipation      disgust         fear          joy      sadness \n",
       "        1524         6712         2843         2719         5620         1677 \n",
       "    surprise        trust     negative     positive \n",
       "        2009        17875         5883        18805 "
      ]
     },
     "metadata": {},
     "output_type": "display_data"
    }
   ],
   "source": [
    "colSums(sentiment_nrc)"
   ]
  },
  {
   "cell_type": "code",
   "execution_count": 13,
   "metadata": {
    "vscode": {
     "languageId": "r"
    }
   },
   "outputs": [],
   "source": [
    "anger = sum(sentiment_nrc[,1])\n",
    "# anger\n",
    "anticipation = sum(sentiment_nrc[,2])\n",
    "# anticipation    \n",
    "disgust = sum(sentiment_nrc[,3])\n",
    "# disgust\n",
    "fear = sum(sentiment_nrc[,4])\n",
    "# fear\n",
    "joy = sum(sentiment_nrc[,5])\n",
    "# joy\n",
    "sadness = sum(sentiment_nrc[,6])\n",
    "# sadness\n",
    "surprise = sum(sentiment_nrc[,7])\n",
    "# surprise\n",
    "trust = sum(sentiment_nrc[,8])\n",
    "# trust\n",
    "negative = sum(sentiment_nrc[,9]) \n",
    "# negative\n",
    "positive = sum(sentiment_nrc[,10]) \n",
    "# positive"
   ]
  },
  {
   "cell_type": "code",
   "execution_count": 14,
   "metadata": {
    "vscode": {
     "languageId": "r"
    }
   },
   "outputs": [
    {
     "data": {
      "image/png": "[encoded data removed]",
      "text/plain": [
       "Plot with title \"nrc category scores\""
      ]
     },
     "metadata": {
      "image/png": {
       "height": 420,
       "width": 420
      }
     },
     "output_type": "display_data"
    }
   ],
   "source": [
    "# Barplot showing sentiment scores for each category in sentiment_nrc\n",
    "sentiment_nrc1 = c(anger, anticipation, disgust, fear, joy, sadness, surprise, trust, negative, positive)\n",
    "\n",
    "barplot(sentiment_nrc1, main = \"nrc category scores\", col = \"grey\", names.arg = c(\"anger\", \"anticipation\", \"disgust\", \"fear\", \"joy\", \"sadness\", \"surprise\", \"trust\", \"negative\", \"positive\"))"
   ]
  },
  {
   "cell_type": "code",
   "execution_count": 15,
   "metadata": {
    "vscode": {
     "languageId": "r"
    }
   },
   "outputs": [
    {
     "data": {
      "image/png": "[encoded data removed]",
      "text/plain": [
       "Plot with title \"Sentiment Trend with Syuzhet\""
      ]
     },
     "metadata": {
      "image/png": {
       "height": 420,
       "width": 420
      }
     },
     "output_type": "display_data"
    }
   ],
   "source": [
    "plot(sentiment_Syuzhet, main = \"Sentiment Trend with Syuzhet\", xlab = \"documents\", ylab = \"sentiment score\")"
   ]
  },
  {
   "cell_type": "code",
   "execution_count": 16,
   "metadata": {
    "vscode": {
     "languageId": "r"
    }
   },
   "outputs": [
    {
     "data": {
      "image/png": "[encoded data removed]",
      "text/plain": [
       "plot without title"
      ]
     },
     "metadata": {
      "image/png": {
       "height": 420,
       "width": 420
      }
     },
     "output_type": "display_data"
    }
   ],
   "source": [
    "# Plot showing the contribution of words to overall sentiment\n",
    "ap_td = tidy(review_dtm)\n",
    "ap_sentiments <- ap_td %>%\n",
    "  inner_join(get_sentiments(\"bing\"), by = c(term = \"word\")) \n",
    "ap_sentiments %>%\n",
    "  count(sentiment, term, wt = count) %>%\n",
    "  ungroup() %>%\n",
    "  filter(n >= 60) %>%\n",
    "  mutate(n = ifelse(sentiment == \"negative\", -n, n)) %>%\n",
    "  mutate(term = reorder(term, n)) %>%\n",
    "  ggplot(aes(term, n, fill = sentiment)) +\n",
    "  geom_bar(stat = \"identity\") +\n",
    "  ylab(\"Contribution to sentiment\") +\n",
    "  coord_flip()"
   ]
  },
  {
   "cell_type": "markdown",
   "metadata": {},
   "source": [
    "### 9 - Topic identification"
   ]
  },
  {
   "cell_type": "code",
   "execution_count": null,
   "metadata": {
    "vscode": {
     "languageId": "r"
    }
   },
   "outputs": [],
   "source": [
    "suppressWarnings(suppressMessages(\n",
    "  invisible({\n",
    "# Topic modeling\n",
    "topic_ <- udpipe(test_twitter$text, \"english\", trace = 10)\n",
    "biterms <- as.data.table(topic_)\n",
    "biterms <- biterms[, cooccurrence(x = lemma,\n",
    "                                  relevant = upos %in% c(\"NOUN\", \"ADJ\", \"VERB\") & \n",
    "                                    nchar(lemma) > 2 & !lemma %in% stopwords(\"en\"),\n",
    "                                  skipgram = 3),\n",
    "                   by = list(doc_id)]\n",
    "traindata <- subset(topic_, upos %in% c(\"NOUN\", \"ADJ\", \"VERB\") & !lemma %in% stopwords(\"en\") & nchar(lemma) > 2)\n",
    "traindata <- traindata[, c(\"doc_id\", \"lemma\")]\n",
    "\n",
    "# Perform Gibbs sampling and suppress output\n",
    "model <- BTM(traindata, biterms = biterms, k = 5, iter = 2000, background = TRUE, trace = 100)\n",
    "  })\n",
    "))\n",
    "\n"
   ]
  },
  {
   "cell_type": "code",
   "execution_count": 18,
   "metadata": {
    "vscode": {
     "languageId": "r"
    }
   },
   "outputs": [
    {
     "data": {
      "text/html": [
       "<ol>\n",
       "\t<li><table class=\"dataframe\">\n",
       "<caption>A data.frame: 5 × 2</caption>\n",
       "<thead>\n",
       "\t<tr><th></th><th scope=col>token</th><th scope=col>probability</th></tr>\n",
       "\t<tr><th></th><th scope=col>&lt;chr&gt;</th><th scope=col>&lt;dbl&gt;</th></tr>\n",
       "</thead>\n",
       "<tbody>\n",
       "\t<tr><th scope=row>1</th><td>circular</td><td>0.052526758</td></tr>\n",
       "\t<tr><th scope=row>2</th><td>economy </td><td>0.043233383</td></tr>\n",
       "\t<tr><th scope=row>3</th><td>new     </td><td>0.009361956</td></tr>\n",
       "\t<tr><th scope=row>4</th><td>waste   </td><td>0.009228906</td></tr>\n",
       "\t<tr><th scope=row>5</th><td>Economy </td><td>0.008821690</td></tr>\n",
       "</tbody>\n",
       "</table>\n",
       "</li>\n",
       "\t<li><table class=\"dataframe\">\n",
       "<caption>A data.frame: 5 × 2</caption>\n",
       "<thead>\n",
       "\t<tr><th></th><th scope=col>token</th><th scope=col>probability</th></tr>\n",
       "\t<tr><th></th><th scope=col>&lt;chr&gt;</th><th scope=col>&lt;dbl&gt;</th></tr>\n",
       "</thead>\n",
       "<tbody>\n",
       "\t<tr><th scope=row>1</th><td>circular</td><td>0.20894045</td></tr>\n",
       "\t<tr><th scope=row>2</th><td>economy </td><td>0.17432138</td></tr>\n",
       "\t<tr><th scope=row>3</th><td>Economy </td><td>0.02422370</td></tr>\n",
       "\t<tr><th scope=row>4</th><td>create  </td><td>0.01310899</td></tr>\n",
       "\t<tr><th scope=row>5</th><td>recycl  </td><td>0.01185041</td></tr>\n",
       "</tbody>\n",
       "</table>\n",
       "</li>\n",
       "\t<li><table class=\"dataframe\">\n",
       "<caption>A data.frame: 5 × 2</caption>\n",
       "<thead>\n",
       "\t<tr><th></th><th scope=col>token</th><th scope=col>probability</th></tr>\n",
       "\t<tr><th></th><th scope=col>&lt;chr&gt;</th><th scope=col>&lt;dbl&gt;</th></tr>\n",
       "</thead>\n",
       "<tbody>\n",
       "\t<tr><th scope=row>1</th><td>new        </td><td>0.02107330</td></tr>\n",
       "\t<tr><th scope=row>2</th><td>make       </td><td>0.01649889</td></tr>\n",
       "\t<tr><th scope=row>3</th><td>sustainable</td><td>0.01601918</td></tr>\n",
       "\t<tr><th scope=row>4</th><td>business   </td><td>0.01529961</td></tr>\n",
       "\t<tr><th scope=row>5</th><td>product    </td><td>0.01315803</td></tr>\n",
       "</tbody>\n",
       "</table>\n",
       "</li>\n",
       "\t<li><table class=\"dataframe\">\n",
       "<caption>A data.frame: 5 × 2</caption>\n",
       "<thead>\n",
       "\t<tr><th></th><th scope=col>token</th><th scope=col>probability</th></tr>\n",
       "\t<tr><th></th><th scope=col>&lt;chr&gt;</th><th scope=col>&lt;dbl&gt;</th></tr>\n",
       "</thead>\n",
       "<tbody>\n",
       "\t<tr><th scope=row>1</th><td>use     </td><td>0.09735987</td></tr>\n",
       "\t<tr><th scope=row>2</th><td>ton     </td><td>0.05841605</td></tr>\n",
       "\t<tr><th scope=row>3</th><td>resource</td><td>0.05654375</td></tr>\n",
       "\t<tr><th scope=row>4</th><td>waste   </td><td>0.05398494</td></tr>\n",
       "\t<tr><th scope=row>5</th><td>natural </td><td>0.04730707</td></tr>\n",
       "</tbody>\n",
       "</table>\n",
       "</li>\n",
       "\t<li><table class=\"dataframe\">\n",
       "<caption>A data.frame: 5 × 2</caption>\n",
       "<thead>\n",
       "\t<tr><th></th><th scope=col>token</th><th scope=col>probability</th></tr>\n",
       "\t<tr><th></th><th scope=col>&lt;chr&gt;</th><th scope=col>&lt;dbl&gt;</th></tr>\n",
       "</thead>\n",
       "<tbody>\n",
       "\t<tr><th scope=row>1</th><td>see     </td><td>0.05976387</td></tr>\n",
       "\t<tr><th scope=row>2</th><td>farm    </td><td>0.03547980</td></tr>\n",
       "\t<tr><th scope=row>3</th><td>advanced</td><td>0.03230505</td></tr>\n",
       "\t<tr><th scope=row>4</th><td>pig     </td><td>0.03074552</td></tr>\n",
       "\t<tr><th scope=row>5</th><td>happier </td><td>0.03046703</td></tr>\n",
       "</tbody>\n",
       "</table>\n",
       "</li>\n",
       "</ol>\n"
      ],
      "text/latex": [
       "\\begin{enumerate}\n",
       "\\item A data.frame: 5 × 2\n",
       "\\begin{tabular}{r|ll}\n",
       "  & token & probability\\\\\n",
       "  & <chr> & <dbl>\\\\\n",
       "\\hline\n",
       "\t1 & circular & 0.052526758\\\\\n",
       "\t2 & economy  & 0.043233383\\\\\n",
       "\t3 & new      & 0.009361956\\\\\n",
       "\t4 & waste    & 0.009228906\\\\\n",
       "\t5 & Economy  & 0.008821690\\\\\n",
       "\\end{tabular}\n",
       "\n",
       "\\item A data.frame: 5 × 2\n",
       "\\begin{tabular}{r|ll}\n",
       "  & token & probability\\\\\n",
       "  & <chr> & <dbl>\\\\\n",
       "\\hline\n",
       "\t1 & circular & 0.20894045\\\\\n",
       "\t2 & economy  & 0.17432138\\\\\n",
       "\t3 & Economy  & 0.02422370\\\\\n",
       "\t4 & create   & 0.01310899\\\\\n",
       "\t5 & recycl   & 0.01185041\\\\\n",
       "\\end{tabular}\n",
       "\n",
       "\\item A data.frame: 5 × 2\n",
       "\\begin{tabular}{r|ll}\n",
       "  & token & probability\\\\\n",
       "  & <chr> & <dbl>\\\\\n",
       "\\hline\n",
       "\t1 & new         & 0.02107330\\\\\n",
       "\t2 & make        & 0.01649889\\\\\n",
       "\t3 & sustainable & 0.01601918\\\\\n",
       "\t4 & business    & 0.01529961\\\\\n",
       "\t5 & product     & 0.01315803\\\\\n",
       "\\end{tabular}\n",
       "\n",
       "\\item A data.frame: 5 × 2\n",
       "\\begin{tabular}{r|ll}\n",
       "  & token & probability\\\\\n",
       "  & <chr> & <dbl>\\\\\n",
       "\\hline\n",
       "\t1 & use      & 0.09735987\\\\\n",
       "\t2 & ton      & 0.05841605\\\\\n",
       "\t3 & resource & 0.05654375\\\\\n",
       "\t4 & waste    & 0.05398494\\\\\n",
       "\t5 & natural  & 0.04730707\\\\\n",
       "\\end{tabular}\n",
       "\n",
       "\\item A data.frame: 5 × 2\n",
       "\\begin{tabular}{r|ll}\n",
       "  & token & probability\\\\\n",
       "  & <chr> & <dbl>\\\\\n",
       "\\hline\n",
       "\t1 & see      & 0.05976387\\\\\n",
       "\t2 & farm     & 0.03547980\\\\\n",
       "\t3 & advanced & 0.03230505\\\\\n",
       "\t4 & pig      & 0.03074552\\\\\n",
       "\t5 & happier  & 0.03046703\\\\\n",
       "\\end{tabular}\n",
       "\n",
       "\\end{enumerate}\n"
      ],
      "text/markdown": [
       "1. \n",
       "A data.frame: 5 × 2\n",
       "\n",
       "| <!--/--> | token &lt;chr&gt; | probability &lt;dbl&gt; |\n",
       "|---|---|---|\n",
       "| 1 | circular | 0.052526758 |\n",
       "| 2 | economy  | 0.043233383 |\n",
       "| 3 | new      | 0.009361956 |\n",
       "| 4 | waste    | 0.009228906 |\n",
       "| 5 | Economy  | 0.008821690 |\n",
       "\n",
       "\n",
       "2. \n",
       "A data.frame: 5 × 2\n",
       "\n",
       "| <!--/--> | token &lt;chr&gt; | probability &lt;dbl&gt; |\n",
       "|---|---|---|\n",
       "| 1 | circular | 0.20894045 |\n",
       "| 2 | economy  | 0.17432138 |\n",
       "| 3 | Economy  | 0.02422370 |\n",
       "| 4 | create   | 0.01310899 |\n",
       "| 5 | recycl   | 0.01185041 |\n",
       "\n",
       "\n",
       "3. \n",
       "A data.frame: 5 × 2\n",
       "\n",
       "| <!--/--> | token &lt;chr&gt; | probability &lt;dbl&gt; |\n",
       "|---|---|---|\n",
       "| 1 | new         | 0.02107330 |\n",
       "| 2 | make        | 0.01649889 |\n",
       "| 3 | sustainable | 0.01601918 |\n",
       "| 4 | business    | 0.01529961 |\n",
       "| 5 | product     | 0.01315803 |\n",
       "\n",
       "\n",
       "4. \n",
       "A data.frame: 5 × 2\n",
       "\n",
       "| <!--/--> | token &lt;chr&gt; | probability &lt;dbl&gt; |\n",
       "|---|---|---|\n",
       "| 1 | use      | 0.09735987 |\n",
       "| 2 | ton      | 0.05841605 |\n",
       "| 3 | resource | 0.05654375 |\n",
       "| 4 | waste    | 0.05398494 |\n",
       "| 5 | natural  | 0.04730707 |\n",
       "\n",
       "\n",
       "5. \n",
       "A data.frame: 5 × 2\n",
       "\n",
       "| <!--/--> | token &lt;chr&gt; | probability &lt;dbl&gt; |\n",
       "|---|---|---|\n",
       "| 1 | see      | 0.05976387 |\n",
       "| 2 | farm     | 0.03547980 |\n",
       "| 3 | advanced | 0.03230505 |\n",
       "| 4 | pig      | 0.03074552 |\n",
       "| 5 | happier  | 0.03046703 |\n",
       "\n",
       "\n",
       "\n",
       "\n"
      ],
      "text/plain": [
       "[[1]]\n",
       "     token probability\n",
       "1 circular 0.052526758\n",
       "2  economy 0.043233383\n",
       "3      new 0.009361956\n",
       "4    waste 0.009228906\n",
       "5  Economy 0.008821690\n",
       "\n",
       "[[2]]\n",
       "     token probability\n",
       "1 circular  0.20894045\n",
       "2  economy  0.17432138\n",
       "3  Economy  0.02422370\n",
       "4   create  0.01310899\n",
       "5   recycl  0.01185041\n",
       "\n",
       "[[3]]\n",
       "        token probability\n",
       "1         new  0.02107330\n",
       "2        make  0.01649889\n",
       "3 sustainable  0.01601918\n",
       "4    business  0.01529961\n",
       "5     product  0.01315803\n",
       "\n",
       "[[4]]\n",
       "     token probability\n",
       "1      use  0.09735987\n",
       "2      ton  0.05841605\n",
       "3 resource  0.05654375\n",
       "4    waste  0.05398494\n",
       "5  natural  0.04730707\n",
       "\n",
       "[[5]]\n",
       "     token probability\n",
       "1      see  0.05976387\n",
       "2     farm  0.03547980\n",
       "3 advanced  0.03230505\n",
       "4      pig  0.03074552\n",
       "5  happier  0.03046703\n"
      ]
     },
     "metadata": {},
     "output_type": "display_data"
    },
    {
     "data": {
      "image/png": "[encoded data removed]",
      "text/plain": [
       "plot without title"
      ]
     },
     "metadata": {
      "image/png": {
       "height": 420,
       "width": 420
      }
     },
     "output_type": "display_data"
    }
   ],
   "source": [
    "# Get terms and plot the model\n",
    "terms(model)\n",
    "plot(model, top_n = 6, title = \"\")"
   ]
  },
  {
   "cell_type": "markdown",
   "metadata": {},
   "source": [
    "### 10 - Sentiment analysis relative to topics"
   ]
  },
  {
   "cell_type": "code",
   "execution_count": 19,
   "metadata": {
    "vscode": {
     "languageId": "r"
    }
   },
   "outputs": [
    {
     "data": {
      "text/html": [
       "6399.6"
      ],
      "text/latex": [
       "6399.6"
      ],
      "text/markdown": [
       "6399.6"
      ],
      "text/plain": [
       "[1] 6399.6"
      ]
     },
     "metadata": {},
     "output_type": "display_data"
    },
    {
     "data": {
      "text/html": [
       "1532.5"
      ],
      "text/latex": [
       "1532.5"
      ],
      "text/markdown": [
       "1532.5"
      ],
      "text/plain": [
       "[1] 1532.5"
      ]
     },
     "metadata": {},
     "output_type": "display_data"
    },
    {
     "data": {
      "text/html": [
       "2653.05"
      ],
      "text/latex": [
       "2653.05"
      ],
      "text/markdown": [
       "2653.05"
      ],
      "text/plain": [
       "[1] 2653.05"
      ]
     },
     "metadata": {},
     "output_type": "display_data"
    },
    {
     "data": {
      "text/html": [
       "1910.25"
      ],
      "text/latex": [
       "1910.25"
      ],
      "text/markdown": [
       "1910.25"
      ],
      "text/plain": [
       "[1] 1910.25"
      ]
     },
     "metadata": {},
     "output_type": "display_data"
    },
    {
     "data": {
      "text/html": [
       "2927.4"
      ],
      "text/latex": [
       "2927.4"
      ],
      "text/markdown": [
       "2927.4"
      ],
      "text/plain": [
       "[1] 2927.4"
      ]
     },
     "metadata": {},
     "output_type": "display_data"
    }
   ],
   "source": [
    "# Sentiment by topic:\n",
    "\n",
    "# Sentiment for the \"circular economy\" topic\n",
    "token1_1 <- grep(\"economy\", test_twitter$text)\n",
    "token1_2 <- grep(\"circular\", test_twitter$text)\n",
    "token1_3 <- grep(\"business\", test_twitter$text)\n",
    "token1_4 <- grep(\"new\", test_twitter$text) \n",
    "token1_5 <- grep(\"create\", test_twitter$text)\n",
    "token1 <- c(token1_1,token1_2,token1_3,token1_4,token1_5)\n",
    "invisible(unique(token1))\n",
    "senttoken1 <- get_sentiment(test_twitter$text[unique(token1)])\n",
    "# senttoken1\n",
    "sum(senttoken1)\n",
    "\n",
    "\n",
    "# Sentiment for the \"sustainability\" topic\n",
    "token2_1 <- grep(\"make\", test_twitter$text) \n",
    "token2_2 <- grep(\"waste\", test_twitter$text)\n",
    "token2_3 <- grep(\"plastic\", test_twitter$text) \n",
    "token2_4 <- grep(\"food\", test_twitter$text) \n",
    "token2_5 <- grep(\"use\", test_twitter$text) \n",
    "token2 <- c(token2_1,token2_2,token2_3,token2_4,token2_5)\n",
    "invisible(unique(token2))\n",
    "senttoken2 <- get_sentiment(test_twitter$text[unique(token2)])\n",
    "sum(senttoken2)\n",
    "\n",
    "# Sentiment for the \"recycling\" topic\n",
    "token3_1 <- grep(\"plastic\", test_twitter$text) \n",
    "token3_2 <- grep(\"recycle\", test_twitter$text)\n",
    "token3_3 <- grep(\"waste\", test_twitter$text) \n",
    "token3_4 <- grep(\"ton\", test_twitter$text) \n",
    "token3_5 <- grep(\"sustainable\", test_twitter$text) \n",
    "token3 <- c(token3_1,token3_2,token3_3,token3_4,token3_5)\n",
    "invisible(unique(token3))\n",
    "senttoken3 <- get_sentiment(test_twitter$text[unique(token3)])\n",
    "sum(senttoken3)\n",
    "\n",
    "# Sentiment for the \"environmental resources\" topic\n",
    "token4_1 <- grep(\"use\", test_twitter$text) \n",
    "token4_2 <- grep(\"ton\", test_twitter$text)\n",
    "token4_3 <- grep(\"resource\", test_twitter$text) \n",
    "token4_4 <- grep(\"natural\", test_twitter$text) \n",
    "token4_5 <- grep(\"avoid\", test_twitter$text) \n",
    "token4 <- c(token4_1,token4_2,token4_3,token4_4,token4_5)\n",
    "invisible(unique(token4))\n",
    "senttoken4 <- get_sentiment(test_twitter$text[unique(token4)])\n",
    "sum(senttoken4)\n",
    "\n",
    "# Sentiment for the \"webinar\" topic\n",
    "token5_1 <- grep(\"today\", test_twitter$text)\n",
    "token5_2 <- grep(\"new\", test_twitter$text)\n",
    "token5_3 <- grep(\"join\", test_twitter$text)\n",
    "token5_4 <- grep(\"event\", test_twitter$text)\n",
    "token5_5 <- grep(\"webinar\", test_twitter$text)\n",
    "token5 <- c(token5_1,token5_2,token5_3,token5_4,token5_5)\n",
    "invisible(unique(token5))\n",
    "senttoken5 <- get_sentiment(test_twitter$text[unique(token5)])\n",
    "sum(senttoken5)\n"
   ]
  },
  {
   "cell_type": "code",
   "execution_count": 20,
   "metadata": {
    "vscode": {
     "languageId": "r"
    }
   },
   "outputs": [],
   "source": [
    "# Classifying tweets based on identified topics\n",
    "options(max.print=100)\n",
    "invisible(test_twitter$text[unique(token1)])\n",
    "invisible(test_twitter$text[unique(token2)])\n",
    "invisible(test_twitter$text[unique(token3)])\n",
    "invisible(test_twitter$text[unique(token4)])\n",
    "invisible(test_twitter$text[unique(token5)])"
   ]
  },
  {
   "cell_type": "markdown",
   "metadata": {},
   "source": [
    "### 12 - Extraction of the most frequent hashtags"
   ]
  },
  {
   "cell_type": "code",
   "execution_count": 21,
   "metadata": {
    "vscode": {
     "languageId": "r"
    }
   },
   "outputs": [],
   "source": [
    "# Extracting hashtags\n",
    "funzione_hashtag <- str_extract_all(test_twitter$text, \"(?<=^|\\\\s)#\\\\S+\")\n",
    "hash <- (funzione_hashtag)\n",
    "hashtag <- unique(hash)\n",
    "# funzione_hashtag\n",
    "h <- invisible(compact(hashtag)) # Removing empty tweets (those without hashtags)\n"
   ]
  },
  {
   "cell_type": "code",
   "execution_count": 22,
   "metadata": {
    "vscode": {
     "languageId": "r"
    }
   },
   "outputs": [
    {
     "name": "stderr",
     "output_type": "stream",
     "text": [
      "Warning message in tm_map.SimpleCorpus(corpus_hashtag, tolower):\n",
      "\"transformation drops documents\"\n",
      "Warning message in tm_map.SimpleCorpus(corpus_hashtag, removePunctuation):\n",
      "\"transformation drops documents\"\n",
      "Warning message in tm_map.SimpleCorpus(corpus_hashtag, removeNumbers):\n",
      "\"transformation drops documents\"\n",
      "Warning message in tm_map.SimpleCorpus(corpus_hashtag, removeWords, stopwords(\"english\")):\n",
      "\"transformation drops documents\"\n",
      "Warning message in tm_map.SimpleCorpus(corpus_hashtag, removeWords, my_stopwords):\n",
      "\"transformation drops documents\"\n",
      "Warning message in TermDocumentMatrix.SimpleCorpus(corpus_hashtag, control = list(wordlength = c(1, :\n",
      "\"custom functions are ignored\"\n",
      "Warning message in weighting(x):\n",
      "\"empty document(s): 3 9 10 16 18 21 22 24 32 33 37 42 45 47 56 61 68 82 95 102 104 105 107 108 112 117 120 125 129 131 142 144 156 159 164 170 174 176 183 187 192 197 204 214 216 220 224 225 226 233 234 244 251 271 273 274 278 280 287 295 300 310 314 322 327 329 345 354 373 380 383 385 393 400 405 408 419 433 438 441 447 470 475 476 481 487 503 506 516 529 539 542 549 553 556 566 570 580 585 586 600 604 608 615 624 627 632 634 637 641 642 652 655 665 686 691 700 701 705 708 711 713 715 718 724 726 730 736 745 754 767 770 781 785 798 801 812 814 818 829 833 835 837 852 854 859 862 863 867 868 872 879 893 895 903 912 916 919 920 921 923 938 951 953 956 961 963 977 979 981 992 994 995 1000 1004 1008 1011 1012 1013 1024 1026 1030 1033 1036 1042 1054 1068 1079 1085 1093 1098 1114 1117 1118 1122 1123 1127 1149 1151 1157 1163 1169 1176 1182 1187 1188 1194 1199 1205 1212 1223 1225 1227 1228 1235 1244 1250 1256 1264 1272 1273 1280 1284 1285 1286 1295 1296 1298 1302 1307 1308 1315 1319 1326 1328 1329 1330 1338 1346 1347 1351 1363 1370 1379 1380 1381 1384 1386 1389 1396 1404 1405 1407 1411 1415 1417 1424 1433 1437 1438 1442 1443 1452 1453 1463 1466 1469 1474 1475 1488 1491 1494 1499 1501 1503 1506 1511 1514 1515 1519 1521 1528 1537 1539 1541 1550 1552 1554 1565 1566 1569 1570 1572 1579 1585 1586 1589 1601 1604 1606 1610 1627 1630 1638 1646 1661 1676 1679 1680 1685 1688 1693 1694 1702 1731 1737 1755 1758 1760 1769 1772 1782 1787 1789 1790 1791 1798 1799 1815 1833 1834 1838 1843 1850 1855 1856 1866 1887 1889 1890 1896 1914 1932 1944 1950 1964 1969 1992 1994 2003 2010 2012 2013 2019 2032 2042 2043 2045 2050 2053 2055 2064 2071 2075 2089 2094 2100 2105 2111 2115 2119 2126 2128 2132 2134 2152 2163 2166 2167 2174 2175 2178 2189 2192 2199 2239 2252 2253 2255 2265 2269 2292 2293 2299 2301 2311 2312 2314 2316 2318 2320 2324 2327 2337 2340 2343 2364 2367 2368 2371 2381 2383 2386 2398 2405 2408 2411 2413 2414 2419 2431 2441 2444 2448 2455 2463 2465 2482 2494 2505 2510 2512 2517 2520 2521 2527 2540 2545 2553 2558 2564 2569 2571 2579 2588 2589 2592 2599 2609 2612 2624 2631 2639 2651 2652 2653 2657 2663 2674 2687 2696 2704 2714 2720 2728 2744 2746 2751 2754 2761 2768 2770 2773 2779 2784 2788 2789 2793 2801 2802 2806 2807 2810 2814 2818 2822 2823 2834 2837 2840 2841 2846 2847 2850 2851 2852 2854 2856 2859 2861 2865 2867 2874 2879 2883 2901 2906 2919 2926 2927 2934 2935 2941 2944 2948 2952 2963 2975 2993 2995 2997 3007 3012 3015 3017 3028 3040 3041 3044 3050 3053 3056 3065 3074 3077 3081 3095 3105 3107 3109 3114 3118 3122 3126 3136 3138 3141 3142 3161 3164 3165 3179 3186 3190 3196 3218 3225 3232 3238 3245 3248 3249 3253 3261 3266 3280 3284 3292 3307 3312 3316 3322 3324 3325 3330 3332 3335 3340 3345 3347 3348 3357 3360 3369 3375 3379 3384 3390 3393 3394 3405 3407 3412 3413 3416 3421 3425 3433 3437 3441 3442 3445 3451 3455 3458 3462 3464 3474 3482 3485 3490 3493 3495 3497 3504 3507 3517 3544 3555 3561 3566 3569 3578 3582 3585 3589 3590 3592 3597 3600 3601 3603 3605 3618 3623 3638 3646 3654 3657 3663 3669 3670 3673 3680 3683 3685 3697 3705 3713 3724 3731 3734 3735 3746 3747 3751 3753 3755 3758 3763 3765 3775 3780 3783 3791 3798 3824 3830 3831 3835 3836 3841 3845 3851 3853 3857 3863 3864 3869 3872 3898 3901 3905 3910 3916 3931 3942 3950 3951 3954 3964 3981 3984 3986 3987 3988 3998 4002 4024 4031 4043 4050\"\n"
     ]
    }
   ],
   "source": [
    "# Most relevant hashtags\n",
    "h_singoli <- c(unlist(h)) # Putting each hashtag on a separate line\n",
    "corpus_hashtag = Corpus(VectorSource(h_singoli)) # Creating a corpus\n",
    "corpus_hashtag = tm_map(corpus_hashtag, tolower) # Converting text to lowercase (including #)\n",
    "corpus_hashtag = tm_map(corpus_hashtag, removePunctuation) # Removing punctuation\n",
    "corpus_hashtag = tm_map(corpus_hashtag, removeNumbers) # Removing numbers\n",
    "corpus_hashtag = tm_map(corpus_hashtag, removeWords, stopwords(\"english\")) # Removing stopwords\n",
    "\n",
    "my_stopwords <- c(\"may\", \"will\", \"also\", \"get\", \"made\", \"can\", \n",
    "                  \"am\", \"just\", \"i\", \"i'm\", \"ucu\", \"ucue\",\n",
    "                  \"of\", \"the\", \"this\", \"in\", \"know\",\n",
    "                  \"want\", \"need\", \"che\", \"amp\", \"check\",  \n",
    "                  \"read\", \"circ\", \"one\", \"eriksolheim\", \"just\",\n",
    "                  \"&amp;\", \"&\", \";\", \"&amp\", \"wh\", \"1st\", \n",
    "                  \"circulareconomy\", \"circular\", \"economy\")\n",
    "\n",
    "corpus_hashtag <- tm_map(corpus_hashtag, removeWords, my_stopwords) # Removing highly frequent words\n",
    "review_hashtag <- TermDocumentMatrix(corpus_hashtag, control=list(wordlength=c(1,Inf), weighting = weightTfIdf))"
   ]
  },
  {
   "cell_type": "code",
   "execution_count": 23,
   "metadata": {
    "vscode": {
     "languageId": "r"
    }
   },
   "outputs": [],
   "source": [
    "# Converting TDM to a matrix\n",
    "invisible(matrice_hashtag <- as.matrix(review_hashtag))\n",
    "# Summing term frequencies to get the total frequency of each word\n",
    "invisible(lista_hashtag <- rowSums(matrice_hashtag))\n",
    "# Sorting term frequencies in descending order\n",
    "invisible(lista_hashtag <- sort(lista_hashtag, decreasing = TRUE))"
   ]
  },
  {
   "cell_type": "code",
   "execution_count": 24,
   "metadata": {
    "vscode": {
     "languageId": "r"
    }
   },
   "outputs": [
    {
     "data": {
      "text/html": [
       "<style>\n",
       ".dl-inline {width: auto; margin:0; padding: 0}\n",
       ".dl-inline>dt, .dl-inline>dd {float: none; width: auto; display: inline-block}\n",
       ".dl-inline>dt::after {content: \":\\0020\"; padding-right: .5ex}\n",
       ".dl-inline>dt:not(:first-of-type) {padding-left: .5ex}\n",
       "</style><dl class=dl-inline><dt>sustainability</dt><dd>382.979991659932</dd><dt>recycling</dt><dd>317.010308995586</dd><dt>sustainable</dt><dd>239.917277345951</dd><dt>waste</dt><dd>234.484383966827</dd><dt>covid</dt><dd>223.489995829966</dd><dt>wcefonline</dt><dd>183.505154497793</dd><dt>innovation</dt><dd>183.505154497793</dd><dt>environment</dt><dd>177.578396855167</dd><dt>circularity</dt><dd>153.242685495981</dd><dt>webinar</dt><dd>153.242685495981</dd><dt>plastics</dt><dd>153.242685495981</dd><dt>climatechange</dt><dd>153.242685495981</dd><dt>plastic</dt><dd>140.654472628394</dd><dt>eugreendeal</dt><dd>121.157576611169</dd><dt>wastereductionweek</dt><dd>121.157576611169</dd><dt>reuse</dt><dd>114.473904266804</dd><dt>zerowaste</dt><dd>114.473904266804</dd><dt>packaging</dt><dd>114.473904266804</dd><dt>supplychain</dt><dd>114.473904266804</dd><dt>climate</dt><dd>107.687094470089</dd></dl>\n"
      ],
      "text/latex": [
       "\\begin{description*}\n",
       "\\item[sustainability] 382.979991659932\n",
       "\\item[recycling] 317.010308995586\n",
       "\\item[sustainable] 239.917277345951\n",
       "\\item[waste] 234.484383966827\n",
       "\\item[covid] 223.489995829966\n",
       "\\item[wcefonline] 183.505154497793\n",
       "\\item[innovation] 183.505154497793\n",
       "\\item[environment] 177.578396855167\n",
       "\\item[circularity] 153.242685495981\n",
       "\\item[webinar] 153.242685495981\n",
       "\\item[plastics] 153.242685495981\n",
       "\\item[climatechange] 153.242685495981\n",
       "\\item[plastic] 140.654472628394\n",
       "\\item[eugreendeal] 121.157576611169\n",
       "\\item[wastereductionweek] 121.157576611169\n",
       "\\item[reuse] 114.473904266804\n",
       "\\item[zerowaste] 114.473904266804\n",
       "\\item[packaging] 114.473904266804\n",
       "\\item[supplychain] 114.473904266804\n",
       "\\item[climate] 107.687094470089\n",
       "\\end{description*}\n"
      ],
      "text/markdown": [
       "sustainability\n",
       ":   382.979991659932recycling\n",
       ":   317.010308995586sustainable\n",
       ":   239.917277345951waste\n",
       ":   234.484383966827covid\n",
       ":   223.489995829966wcefonline\n",
       ":   183.505154497793innovation\n",
       ":   183.505154497793environment\n",
       ":   177.578396855167circularity\n",
       ":   153.242685495981webinar\n",
       ":   153.242685495981plastics\n",
       ":   153.242685495981climatechange\n",
       ":   153.242685495981plastic\n",
       ":   140.654472628394eugreendeal\n",
       ":   121.157576611169wastereductionweek\n",
       ":   121.157576611169reuse\n",
       ":   114.473904266804zerowaste\n",
       ":   114.473904266804packaging\n",
       ":   114.473904266804supplychain\n",
       ":   114.473904266804climate\n",
       ":   107.687094470089\n",
       "\n"
      ],
      "text/plain": [
       "    sustainability          recycling        sustainable              waste \n",
       "          382.9800           317.0103           239.9173           234.4844 \n",
       "             covid         wcefonline         innovation        environment \n",
       "          223.4900           183.5052           183.5052           177.5784 \n",
       "       circularity            webinar           plastics      climatechange \n",
       "          153.2427           153.2427           153.2427           153.2427 \n",
       "           plastic        eugreendeal wastereductionweek              reuse \n",
       "          140.6545           121.1576           121.1576           114.4739 \n",
       "         zerowaste          packaging        supplychain            climate \n",
       "          114.4739           114.4739           114.4739           107.6871 "
      ]
     },
     "metadata": {},
     "output_type": "display_data"
    }
   ],
   "source": [
    "# List of the top 20 most frequent hashtags\n",
    "lista_hashtag[1:20]"
   ]
  },
  {
   "cell_type": "code",
   "execution_count": 25,
   "metadata": {
    "vscode": {
     "languageId": "r"
    }
   },
   "outputs": [
    {
     "data": {
      "image/png": "[encoded data removed]",
      "text/plain": [
       "plot without title"
      ]
     },
     "metadata": {
      "image/png": {
       "height": 420,
       "width": 420
      }
     },
     "output_type": "display_data"
    }
   ],
   "source": [
    "# Barplot of the top 20 most frequent hashtags\n",
    "barplot(lista_hashtag[1:20], col = \"orange\", las=2)"
   ]
  }
 ],
 "metadata": {
  "kernelspec": {
   "display_name": "R",
   "language": "R",
   "name": "ir"
  },
  "language_info": {
   "codemirror_mode": "r",
   "file_extension": ".r",
   "mimetype": "text/x-r-source",
   "name": "R",
   "pygments_lexer": "r",
   "version": "4.2.2"
  }
 },
 "nbformat": 4,
 "nbformat_minor": 2
}
